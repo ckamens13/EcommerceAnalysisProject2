{
  "nbformat": 4,
  "nbformat_minor": 0,
  "metadata": {
    "colab": {
      "provenance": []
    },
    "kernelspec": {
      "name": "python3",
      "display_name": "Python 3"
    },
    "language_info": {
      "name": "python"
    }
  },
  "cells": [
    {
      "cell_type": "markdown",
      "source": [
        "##E-Commerce(Fictitious) Analysis<br>\n",
        "---\n",
        "Cassie Kamens<br>\n",
        "Class-DAT512<br>\n",
        "Institution-Canisius College<br>\n",
        "Professor-Paul Lambson<br>\n",
        "Spring 2023<br>\n",
        "<br>\n",
        "\n",
        "## Exploratory Objectives:<br>\n",
        "-Evaluation of products, including product sales and product web views<br> \n",
        "-A recommendation of cutting 20% of products from the store<br>\n",
        "-Examination of users, including user's data, purchase and return history, and web behavior<br>\n",
        "-Categorize users into meaningful segments<br>\n",
        "-Explaination of categories possible business usage<br>\n",
        "<br>\n",
        " \n",
        "## Sections:<br>\n",
        "- [Import Statements and Initialization](#data_import)\n",
        "- [SQL to Dataframe](#Initial_Dataframe_Creation)\n",
        "- [Evaluation of Products](#Data_Cleaning)\n",
        "- [Product Sales](#Final_Dataframe)\n",
        "- [Product Web Views](#Analysis_Mean_Response_Time_by_Subject)\n",
        "- [Product Reduction Recommendation](#Analysis_Mean_Response_Time_by_Subject_1)\n",
        "- [Examination of User's Data'](#Analysis_Average_Case_Duration_by_Neighborhood)\n",
        "- [Categorization of Users](#Analysis_Case_References_by_Subject_in_each_Neighborhood)"
      ],
      "metadata": {
        "id": "qK8w9QFeLiox"
      }
    },
    {
      "cell_type": "markdown",
      "source": [
        "# Import Statements and Initialization\n",
        "<a id='data_import'></a>\n",
        "\n",
        "---\n",
        "-Import necessary libraries <br>\n",
        "-Authenticate the google account that is connected to colab and Google Big Query <br>\n",
        "-Set up the project id that will be connected to this notebook from Google Big Query <br>"
      ],
      "metadata": {
        "id": "JB0xFgugTfrq"
      }
    },
    {
      "cell_type": "code",
      "source": [
        "import requests\n",
        "import pandas as pd\n",
        "import numpy as np\n",
        "import matplotlib.pyplot as plt\n",
        "import datetime\n",
        "import seaborn as sns\n",
        "from sklearn.cluster import KMeans\n",
        "import matplotlib.pyplot as plt"
      ],
      "metadata": {
        "id": "o3s-MBvbhqcc"
      },
      "execution_count": 1,
      "outputs": []
    },
    {
      "cell_type": "code",
      "execution_count": 2,
      "metadata": {
        "id": "CRfYWSeKhfJx"
      },
      "outputs": [],
      "source": [
        "from google.colab import auth\n",
        "auth.authenticate_user()"
      ]
    },
    {
      "cell_type": "code",
      "source": [
        "project_id = 'groovy-root-380023'"
      ],
      "metadata": {
        "id": "aDM80YKsVhZC"
      },
      "execution_count": 3,
      "outputs": []
    },
    {
      "cell_type": "markdown",
      "source": [
        "# SQL to Dataframe\n",
        "<a id='Initial_Dataframe_Creation'></a>\n",
        "\n",
        "---\n",
        "-Use SQL queries to create pandas dataframes that import the data from the accompanying table in Google Big Query<br>\n",
        "-Dataframes created from tables in this step are the full imports of products, orders, order_items, inventory_items, and users<br>"
      ],
      "metadata": {
        "id": "ZcJFcFKUZ87t"
      }
    },
    {
      "cell_type": "code",
      "source": [
        "products = pd.io.gbq.read_gbq(f'''\n",
        "SELECT * FROM `bigquery-public-data.thelook_ecommerce.products`\n",
        "''',project_id=project_id)\n",
        "\n",
        "orders = pd.io.gbq.read_gbq(f'''\n",
        "SELECT * FROM `bigquery-public-data.thelook_ecommerce.orders`\n",
        "''',project_id=project_id)\n",
        "\n",
        "order_items = pd.io.gbq.read_gbq(f'''\n",
        "SELECT * FROM `bigquery-public-data.thelook_ecommerce.order_items`\n",
        "''',project_id=project_id)\n",
        "\n",
        "inventory_items = pd.io.gbq.read_gbq(f'''\n",
        "SELECT * FROM `bigquery-public-data.thelook_ecommerce.inventory_items`\n",
        "''',project_id=project_id)\n",
        "\n",
        "users = pd.io.gbq.read_gbq(f'''\n",
        "SELECT * FROM `bigquery-public-data.thelook_ecommerce.users`\n",
        "''',project_id=project_id)"
      ],
      "metadata": {
        "id": "3pyQr9-nhkRz"
      },
      "execution_count": 4,
      "outputs": []
    },
    {
      "cell_type": "markdown",
      "source": [
        "# Evaluation of Products\n",
        "<a id='Data_Cleaning'></a>\n",
        "\n",
        "---\n",
        "-Look at the column names in the products table and the type of the variable in each column <br>\n",
        "-Count the total number of unique products available at this store and determine the number of products(20%) that will be recommended for removal later <br>\n",
        "-Look and the column names and variable types in the order_items table <br>\n",
        "-An overview of the product prices in the store <br>"
      ],
      "metadata": {
        "id": "zI-mDP-LcBF9"
      }
    },
    {
      "cell_type": "code",
      "source": [
        "products.dtypes"
      ],
      "metadata": {
        "colab": {
          "base_uri": "https://localhost:8080/"
        },
        "id": "adWUKNCzkWFO",
        "outputId": "4a4ee212-fa79-4e7e-8132-56cccff6af52"
      },
      "execution_count": 5,
      "outputs": [
        {
          "output_type": "execute_result",
          "data": {
            "text/plain": [
              "id                          Int64\n",
              "cost                      float64\n",
              "category                   object\n",
              "name                       object\n",
              "brand                      object\n",
              "retail_price              float64\n",
              "department                 object\n",
              "sku                        object\n",
              "distribution_center_id      Int64\n",
              "dtype: object"
            ]
          },
          "metadata": {},
          "execution_count": 5
        }
      ]
    },
    {
      "cell_type": "code",
      "source": [
        "num_of_products = products['id'].count()\n",
        "num_of_products"
      ],
      "metadata": {
        "colab": {
          "base_uri": "https://localhost:8080/"
        },
        "id": "mjbC4Fppk97V",
        "outputId": "19a2ea91-a7b7-4ef6-eed8-3f3080cb7eef"
      },
      "execution_count": 6,
      "outputs": [
        {
          "output_type": "execute_result",
          "data": {
            "text/plain": [
              "29120"
            ]
          },
          "metadata": {},
          "execution_count": 6
        }
      ]
    },
    {
      "cell_type": "code",
      "source": [
        "num_of_products_to_remove = num_of_products * 0.2\n",
        "num_of_products_to_remove"
      ],
      "metadata": {
        "colab": {
          "base_uri": "https://localhost:8080/"
        },
        "id": "gFMEam5Sf9z1",
        "outputId": "a86fed99-3c7a-4c48-e111-23fee210f50c"
      },
      "execution_count": 7,
      "outputs": [
        {
          "output_type": "execute_result",
          "data": {
            "text/plain": [
              "5824.0"
            ]
          },
          "metadata": {},
          "execution_count": 7
        }
      ]
    },
    {
      "cell_type": "code",
      "source": [
        "order_items.dtypes"
      ],
      "metadata": {
        "colab": {
          "base_uri": "https://localhost:8080/"
        },
        "id": "XxYastJ_oOxp",
        "outputId": "ed66a0c3-6b02-471d-f2df-a52f094fc8c8"
      },
      "execution_count": 8,
      "outputs": [
        {
          "output_type": "execute_result",
          "data": {
            "text/plain": [
              "id                                 Int64\n",
              "order_id                           Int64\n",
              "user_id                            Int64\n",
              "product_id                         Int64\n",
              "inventory_item_id                  Int64\n",
              "status                            object\n",
              "created_at           datetime64[ns, UTC]\n",
              "shipped_at           datetime64[ns, UTC]\n",
              "delivered_at         datetime64[ns, UTC]\n",
              "returned_at          datetime64[ns, UTC]\n",
              "sale_price                       float64\n",
              "dtype: object"
            ]
          },
          "metadata": {},
          "execution_count": 8
        }
      ]
    },
    {
      "cell_type": "code",
      "source": [
        "max_prod_price = order_items['sale_price'].max()\n",
        "print(\"Maximum Product Price:\",max_prod_price)\n",
        "\n",
        "min_prod_price = order_items['sale_price'].min()\n",
        "print(\"Minimum Product Price:\",min_prod_price)\n",
        "\n",
        "mean_prod_price = order_items['sale_price'].mean()\n",
        "print(\"Mean Product Price:\",mean_prod_price)"
      ],
      "metadata": {
        "colab": {
          "base_uri": "https://localhost:8080/"
        },
        "id": "SsBhzFkXu2BL",
        "outputId": "275515bc-d889-49a7-b810-c71cbac6f848"
      },
      "execution_count": 9,
      "outputs": [
        {
          "output_type": "stream",
          "name": "stdout",
          "text": [
            "Maximum Product Price: 999.0\n",
            "Minimum Product Price: 0.0199999995529651\n",
            "Mean Product Price: 59.31814771943667\n"
          ]
        }
      ]
    },
    {
      "cell_type": "markdown",
      "source": [
        "# Product Sales\n",
        "<a id='Final_Dataframe'></a>\n",
        "\n",
        "---\n",
        "-Using the order_items table we can create a new dataframe by grouping items that have sold with the same product id <br>\n",
        "-Find the minimum, maximum, and mean of the number of times an individual item was sold <br>\n",
        "-Find the minimum, maximum, and mean of the sum of sales of an individual item <br>\n",
        "-Find the minimum, maximum, and mean of the number of times an individual item was returned <br>"
      ],
      "metadata": {
        "id": "WJoaS5TAdRhq"
      }
    },
    {
      "cell_type": "code",
      "source": [
        "count_sales_per_product = pd.DataFrame(order_items.groupby(['product_id'])['order_id'].count())\n",
        "count_sales_per_product = count_sales_per_product.reset_index()\n",
        "count_sales_per_product = count_sales_per_product.rename(columns={'order_id':'Units'})"
      ],
      "metadata": {
        "id": "4PC0FrHMn82l"
      },
      "execution_count": 17,
      "outputs": []
    },
    {
      "cell_type": "code",
      "source": [
        "max_units = count_sales_per_product['Units'].max()\n",
        "print(\"Maximun Units Sold:\",max_units)\n",
        "\n",
        "min_units = count_sales_per_product['Units'].min()\n",
        "print(\"Minimum Units Sold:\",min_units)\n",
        "\n",
        "mean_units = count_sales_per_product['Units'].mean()\n",
        "print(\"Mean Units Sold:\",mean_units)"
      ],
      "metadata": {
        "colab": {
          "base_uri": "https://localhost:8080/"
        },
        "id": "rB4o9j7RooT4",
        "outputId": "b3d5e9de-38ce-4ae3-8150-e3c1f2d916b7"
      },
      "execution_count": 19,
      "outputs": [
        {
          "output_type": "stream",
          "name": "stdout",
          "text": [
            "Maximun Units Sold: 20\n",
            "Minimum Units Sold: 1\n",
            "Mean Units Sold: 6.2431557560522055\n"
          ]
        }
      ]
    },
    {
      "cell_type": "markdown",
      "source": [
        "###### The dataframe only includes information about the price of the sale, there is not information about discounts or sales on the products. Therefore, we have to make the assumption that the price of the product at the time of sale includes the discount or that the company does not offer promotions. In either case, the price listed in the order_items dataframe is the price used in the following analysis about the total revenue generated by a product. "
      ],
      "metadata": {
        "id": "-mu_WF-ByOnX"
      }
    },
    {
      "cell_type": "code",
      "source": [
        "sum_of_sales_product = pd.DataFrame(order_items.groupby(['product_id'])['sale_price'].sum())\n",
        "sum_of_sales_product = sum_of_sales_product.reset_index()\n",
        "sum_of_sales_product = sum_of_sales_product.rename(columns={'sale_price':'Sum_of_Sales'})"
      ],
      "metadata": {
        "id": "3bN2MB-rpobO"
      },
      "execution_count": 20,
      "outputs": []
    },
    {
      "cell_type": "code",
      "source": [
        "max_sum = sum_of_sales_product['Sum_of_Sales'].max()\n",
        "print(\"Maximum Revenune from a single product:\",max_sum)\n",
        "\n",
        "min_sum = sum_of_sales_product['Sum_of_Sales'].min()\n",
        "print(\"Minimum Revenune from a single product:\",min_sum)\n",
        "\n",
        "mean_sum = sum_of_sales_product['Sum_of_Sales'].mean()\n",
        "print(\"Mean Revenune from the products:\",mean_sum)"
      ],
      "metadata": {
        "colab": {
          "base_uri": "https://localhost:8080/"
        },
        "id": "Q9VIQUTbuWks",
        "outputId": "32c1495f-f583-4384-c8a5-cabfc28a5dec"
      },
      "execution_count": 21,
      "outputs": [
        {
          "output_type": "stream",
          "name": "stdout",
          "text": [
            "Maximum Revenune from a single product: 11739.0\n",
            "Minimum Revenune from a single product: 0.11999999731779061\n",
            "Mean Revenune from the products: 370.33243537295607\n"
          ]
        }
      ]
    },
    {
      "cell_type": "code",
      "source": [
        "only_returns = pd.DataFrame(order_items.where(order_items['returned_at'] != 'NaN')).dropna()"
      ],
      "metadata": {
        "id": "3icVDjh-sbFk"
      },
      "execution_count": 22,
      "outputs": []
    },
    {
      "cell_type": "code",
      "source": [
        "count_of_returns_per_product = pd.DataFrame(only_returns.groupby(['product_id'])['returned_at'].count())\n",
        "count_of_returns_per_product = count_of_returns_per_product.reset_index()\n",
        "count_of_returns_per_product = count_of_returns_per_product.rename(columns={'returned_at':'returns'})"
      ],
      "metadata": {
        "id": "Kavr3A5eozay"
      },
      "execution_count": 26,
      "outputs": []
    },
    {
      "cell_type": "code",
      "source": [
        "max_returns = count_of_returns_per_product['returns'].max()\n",
        "print(\"Maximum Units Returned for a Product:\",max_returns)\n",
        "\n",
        "min_returns = count_of_returns_per_product['returns'].min()\n",
        "print(\"Minimum Units Returned for a Product:\",min_returns)\n",
        "\n",
        "mean_returns = count_of_returns_per_product['returns'].mean()\n",
        "print(\"Mean Units Returned for a Product:\",mean_returns)"
      ],
      "metadata": {
        "colab": {
          "base_uri": "https://localhost:8080/"
        },
        "id": "PvVLTtBdtN_7",
        "outputId": "450d9ce1-8fd9-41e1-f5a4-409d8a52220e"
      },
      "execution_count": 27,
      "outputs": [
        {
          "output_type": "stream",
          "name": "stdout",
          "text": [
            "Maximum Units Returned for a Product: 6\n",
            "Minimum Units Returned for a Product: 1\n",
            "Mean Units Returned for a Product: 1.3420324534509833\n"
          ]
        }
      ]
    },
    {
      "cell_type": "markdown",
      "source": [
        "# Product Web Views\n",
        "<a id='Analysis_Mean_Response_Time_by_Subject'></a>\n",
        "\n",
        "---\n",
        "-Create a new table through an SQL query using the events table when the event type is product, indicating that a product was viewed <br>\n",
        "-Tranform the resulting dataframe into a series <br>\n",
        "-Use string split on the uri variable to find the product id number which is embedded in the uri <br>\n",
        "-Change the column '2' to 'id' <br>\n",
        "-Create a dataframe from grouping alike product ids, keeping track of the number of times a product was viewed and the number of times a product was returned<br>\n",
        "-Reset the index of the dataframe and convert all variables to 'int64'<br>\n",
        "-Use merge to join products onto the new events table, using 'id' as the key <br>\n",
        "-Clean the new merged dataframe- rename columns, fill variables 'NA' with zeros in the counted columns <br>"
      ],
      "metadata": {
        "id": "MbB7fLVsf_-e"
      }
    },
    {
      "cell_type": "code",
      "source": [
        "sql = '''\n",
        "SELECT uri FROM `bigquery-public-data.thelook_ecommerce.events` \n",
        "WHERE event_type = 'product'\n",
        "'''\n",
        "\n",
        "product_events = pd.io.gbq.read_gbq(sql,project_id=project_id)"
      ],
      "metadata": {
        "id": "mu68B3NbSK-z"
      },
      "execution_count": 40,
      "outputs": []
    },
    {
      "cell_type": "code",
      "source": [
        "series_pe = product_events.squeeze()\n",
        "type(series_pe)"
      ],
      "metadata": {
        "colab": {
          "base_uri": "https://localhost:8080/"
        },
        "id": "HL9PLunu0MUK",
        "outputId": "dc5297ac-16f2-4c96-b8b4-db35d81fd6b5"
      },
      "execution_count": 41,
      "outputs": [
        {
          "output_type": "execute_result",
          "data": {
            "text/plain": [
              "pandas.core.series.Series"
            ]
          },
          "metadata": {},
          "execution_count": 41
        }
      ]
    },
    {
      "cell_type": "code",
      "source": [
        "df_pe = series_pe.str.split(\"/\",expand=True)\n",
        "only_product = pd.DataFrame(df_pe[[1,2]])"
      ],
      "metadata": {
        "id": "qiGdyuFM1fLW"
      },
      "execution_count": 42,
      "outputs": []
    },
    {
      "cell_type": "code",
      "source": [
        "product_events = only_product.rename(columns={1:'row_1',2:'id'})"
      ],
      "metadata": {
        "id": "YcSsz0sUU4vz"
      },
      "execution_count": 43,
      "outputs": []
    },
    {
      "cell_type": "code",
      "source": [
        "only_product_id = pd.DataFrame(product_events['id']).groupby('id').value_counts()\n",
        "opi_1 = pd.DataFrame(only_product_id)\n",
        "opi_2 = opi_1.reset_index()\n",
        "only_product_id_df = pd.DataFrame(opi_2)"
      ],
      "metadata": {
        "id": "yiMTWwA_7ZXg"
      },
      "execution_count": 44,
      "outputs": []
    },
    {
      "cell_type": "code",
      "source": [
        "only_product_id_df = only_product_id_df.astype('int')"
      ],
      "metadata": {
        "id": "AyehzJN0QuM3"
      },
      "execution_count": 45,
      "outputs": []
    },
    {
      "cell_type": "code",
      "source": [
        "join_events_products = pd.merge(products,only_product_id_df, on=[\"id\"],how=\"outer\")"
      ],
      "metadata": {
        "id": "uWasKf52PY_N"
      },
      "execution_count": 50,
      "outputs": []
    },
    {
      "cell_type": "code",
      "source": [
        "join_events_products = join_events_products.rename(columns={0:'count_of_web_views'})\n",
        "product_web_views = pd.DataFrame(join_events_products[['id','count_of_web_views']])\n",
        "product_web_views = product_web_views.sort_values(['count_of_web_views'])\n",
        "product_web_views.head()"
      ],
      "metadata": {
        "colab": {
          "base_uri": "https://localhost:8080/",
          "height": 206
        },
        "id": "ZdYhs-y9zZgG",
        "outputId": "5db2723d-8d03-43f0-b3c3-dd24363a3ddf"
      },
      "execution_count": 51,
      "outputs": [
        {
          "output_type": "execute_result",
          "data": {
            "text/plain": [
              "         id  count_of_web_views\n",
              "15092  4958                   7\n",
              "24631   210                   8\n",
              "24613   270                   8\n",
              "16413  2891                   8\n",
              "24939  5573                   9"
            ],
            "text/html": [
              "\n",
              "  <div id=\"df-5e6a11c1-c5e3-4eac-bbf0-0ae062e0c0d6\">\n",
              "    <div class=\"colab-df-container\">\n",
              "      <div>\n",
              "<style scoped>\n",
              "    .dataframe tbody tr th:only-of-type {\n",
              "        vertical-align: middle;\n",
              "    }\n",
              "\n",
              "    .dataframe tbody tr th {\n",
              "        vertical-align: top;\n",
              "    }\n",
              "\n",
              "    .dataframe thead th {\n",
              "        text-align: right;\n",
              "    }\n",
              "</style>\n",
              "<table border=\"1\" class=\"dataframe\">\n",
              "  <thead>\n",
              "    <tr style=\"text-align: right;\">\n",
              "      <th></th>\n",
              "      <th>id</th>\n",
              "      <th>count_of_web_views</th>\n",
              "    </tr>\n",
              "  </thead>\n",
              "  <tbody>\n",
              "    <tr>\n",
              "      <th>15092</th>\n",
              "      <td>4958</td>\n",
              "      <td>7</td>\n",
              "    </tr>\n",
              "    <tr>\n",
              "      <th>24631</th>\n",
              "      <td>210</td>\n",
              "      <td>8</td>\n",
              "    </tr>\n",
              "    <tr>\n",
              "      <th>24613</th>\n",
              "      <td>270</td>\n",
              "      <td>8</td>\n",
              "    </tr>\n",
              "    <tr>\n",
              "      <th>16413</th>\n",
              "      <td>2891</td>\n",
              "      <td>8</td>\n",
              "    </tr>\n",
              "    <tr>\n",
              "      <th>24939</th>\n",
              "      <td>5573</td>\n",
              "      <td>9</td>\n",
              "    </tr>\n",
              "  </tbody>\n",
              "</table>\n",
              "</div>\n",
              "      <button class=\"colab-df-convert\" onclick=\"convertToInteractive('df-5e6a11c1-c5e3-4eac-bbf0-0ae062e0c0d6')\"\n",
              "              title=\"Convert this dataframe to an interactive table.\"\n",
              "              style=\"display:none;\">\n",
              "        \n",
              "  <svg xmlns=\"http://www.w3.org/2000/svg\" height=\"24px\"viewBox=\"0 0 24 24\"\n",
              "       width=\"24px\">\n",
              "    <path d=\"M0 0h24v24H0V0z\" fill=\"none\"/>\n",
              "    <path d=\"M18.56 5.44l.94 2.06.94-2.06 2.06-.94-2.06-.94-.94-2.06-.94 2.06-2.06.94zm-11 1L8.5 8.5l.94-2.06 2.06-.94-2.06-.94L8.5 2.5l-.94 2.06-2.06.94zm10 10l.94 2.06.94-2.06 2.06-.94-2.06-.94-.94-2.06-.94 2.06-2.06.94z\"/><path d=\"M17.41 7.96l-1.37-1.37c-.4-.4-.92-.59-1.43-.59-.52 0-1.04.2-1.43.59L10.3 9.45l-7.72 7.72c-.78.78-.78 2.05 0 2.83L4 21.41c.39.39.9.59 1.41.59.51 0 1.02-.2 1.41-.59l7.78-7.78 2.81-2.81c.8-.78.8-2.07 0-2.86zM5.41 20L4 18.59l7.72-7.72 1.47 1.35L5.41 20z\"/>\n",
              "  </svg>\n",
              "      </button>\n",
              "      \n",
              "  <style>\n",
              "    .colab-df-container {\n",
              "      display:flex;\n",
              "      flex-wrap:wrap;\n",
              "      gap: 12px;\n",
              "    }\n",
              "\n",
              "    .colab-df-convert {\n",
              "      background-color: #E8F0FE;\n",
              "      border: none;\n",
              "      border-radius: 50%;\n",
              "      cursor: pointer;\n",
              "      display: none;\n",
              "      fill: #1967D2;\n",
              "      height: 32px;\n",
              "      padding: 0 0 0 0;\n",
              "      width: 32px;\n",
              "    }\n",
              "\n",
              "    .colab-df-convert:hover {\n",
              "      background-color: #E2EBFA;\n",
              "      box-shadow: 0px 1px 2px rgba(60, 64, 67, 0.3), 0px 1px 3px 1px rgba(60, 64, 67, 0.15);\n",
              "      fill: #174EA6;\n",
              "    }\n",
              "\n",
              "    [theme=dark] .colab-df-convert {\n",
              "      background-color: #3B4455;\n",
              "      fill: #D2E3FC;\n",
              "    }\n",
              "\n",
              "    [theme=dark] .colab-df-convert:hover {\n",
              "      background-color: #434B5C;\n",
              "      box-shadow: 0px 1px 3px 1px rgba(0, 0, 0, 0.15);\n",
              "      filter: drop-shadow(0px 1px 2px rgba(0, 0, 0, 0.3));\n",
              "      fill: #FFFFFF;\n",
              "    }\n",
              "  </style>\n",
              "\n",
              "      <script>\n",
              "        const buttonEl =\n",
              "          document.querySelector('#df-5e6a11c1-c5e3-4eac-bbf0-0ae062e0c0d6 button.colab-df-convert');\n",
              "        buttonEl.style.display =\n",
              "          google.colab.kernel.accessAllowed ? 'block' : 'none';\n",
              "\n",
              "        async function convertToInteractive(key) {\n",
              "          const element = document.querySelector('#df-5e6a11c1-c5e3-4eac-bbf0-0ae062e0c0d6');\n",
              "          const dataTable =\n",
              "            await google.colab.kernel.invokeFunction('convertToInteractive',\n",
              "                                                     [key], {});\n",
              "          if (!dataTable) return;\n",
              "\n",
              "          const docLinkHtml = 'Like what you see? Visit the ' +\n",
              "            '<a target=\"_blank\" href=https://colab.research.google.com/notebooks/data_table.ipynb>data table notebook</a>'\n",
              "            + ' to learn more about interactive tables.';\n",
              "          element.innerHTML = '';\n",
              "          dataTable['output_type'] = 'display_data';\n",
              "          await google.colab.output.renderOutput(dataTable, element);\n",
              "          const docLink = document.createElement('div');\n",
              "          docLink.innerHTML = docLinkHtml;\n",
              "          element.appendChild(docLink);\n",
              "        }\n",
              "      </script>\n",
              "    </div>\n",
              "  </div>\n",
              "  "
            ]
          },
          "metadata": {},
          "execution_count": 51
        }
      ]
    },
    {
      "cell_type": "markdown",
      "source": [
        "#### The above table shows the five products with the lowest number of web views"
      ],
      "metadata": {
        "id": "8pILx-Rt1UkQ"
      }
    },
    {
      "cell_type": "code",
      "source": [
        "product_web_views.tail()"
      ],
      "metadata": {
        "colab": {
          "base_uri": "https://localhost:8080/",
          "height": 206
        },
        "id": "K4s9Qsqm1b_a",
        "outputId": "552e99d9-82d7-4b5e-c049-44c14d587144"
      },
      "execution_count": 52,
      "outputs": [
        {
          "output_type": "execute_result",
          "data": {
            "text/plain": [
              "         id  count_of_web_views\n",
              "2261  22138                  61\n",
              "4764  23217                  62\n",
              "1625  21284                  63\n",
              "2253  22164                  72\n",
              "7923  28576                  73"
            ],
            "text/html": [
              "\n",
              "  <div id=\"df-1a067f5f-f3d0-4ff4-9c48-c139ff52f616\">\n",
              "    <div class=\"colab-df-container\">\n",
              "      <div>\n",
              "<style scoped>\n",
              "    .dataframe tbody tr th:only-of-type {\n",
              "        vertical-align: middle;\n",
              "    }\n",
              "\n",
              "    .dataframe tbody tr th {\n",
              "        vertical-align: top;\n",
              "    }\n",
              "\n",
              "    .dataframe thead th {\n",
              "        text-align: right;\n",
              "    }\n",
              "</style>\n",
              "<table border=\"1\" class=\"dataframe\">\n",
              "  <thead>\n",
              "    <tr style=\"text-align: right;\">\n",
              "      <th></th>\n",
              "      <th>id</th>\n",
              "      <th>count_of_web_views</th>\n",
              "    </tr>\n",
              "  </thead>\n",
              "  <tbody>\n",
              "    <tr>\n",
              "      <th>2261</th>\n",
              "      <td>22138</td>\n",
              "      <td>61</td>\n",
              "    </tr>\n",
              "    <tr>\n",
              "      <th>4764</th>\n",
              "      <td>23217</td>\n",
              "      <td>62</td>\n",
              "    </tr>\n",
              "    <tr>\n",
              "      <th>1625</th>\n",
              "      <td>21284</td>\n",
              "      <td>63</td>\n",
              "    </tr>\n",
              "    <tr>\n",
              "      <th>2253</th>\n",
              "      <td>22164</td>\n",
              "      <td>72</td>\n",
              "    </tr>\n",
              "    <tr>\n",
              "      <th>7923</th>\n",
              "      <td>28576</td>\n",
              "      <td>73</td>\n",
              "    </tr>\n",
              "  </tbody>\n",
              "</table>\n",
              "</div>\n",
              "      <button class=\"colab-df-convert\" onclick=\"convertToInteractive('df-1a067f5f-f3d0-4ff4-9c48-c139ff52f616')\"\n",
              "              title=\"Convert this dataframe to an interactive table.\"\n",
              "              style=\"display:none;\">\n",
              "        \n",
              "  <svg xmlns=\"http://www.w3.org/2000/svg\" height=\"24px\"viewBox=\"0 0 24 24\"\n",
              "       width=\"24px\">\n",
              "    <path d=\"M0 0h24v24H0V0z\" fill=\"none\"/>\n",
              "    <path d=\"M18.56 5.44l.94 2.06.94-2.06 2.06-.94-2.06-.94-.94-2.06-.94 2.06-2.06.94zm-11 1L8.5 8.5l.94-2.06 2.06-.94-2.06-.94L8.5 2.5l-.94 2.06-2.06.94zm10 10l.94 2.06.94-2.06 2.06-.94-2.06-.94-.94-2.06-.94 2.06-2.06.94z\"/><path d=\"M17.41 7.96l-1.37-1.37c-.4-.4-.92-.59-1.43-.59-.52 0-1.04.2-1.43.59L10.3 9.45l-7.72 7.72c-.78.78-.78 2.05 0 2.83L4 21.41c.39.39.9.59 1.41.59.51 0 1.02-.2 1.41-.59l7.78-7.78 2.81-2.81c.8-.78.8-2.07 0-2.86zM5.41 20L4 18.59l7.72-7.72 1.47 1.35L5.41 20z\"/>\n",
              "  </svg>\n",
              "      </button>\n",
              "      \n",
              "  <style>\n",
              "    .colab-df-container {\n",
              "      display:flex;\n",
              "      flex-wrap:wrap;\n",
              "      gap: 12px;\n",
              "    }\n",
              "\n",
              "    .colab-df-convert {\n",
              "      background-color: #E8F0FE;\n",
              "      border: none;\n",
              "      border-radius: 50%;\n",
              "      cursor: pointer;\n",
              "      display: none;\n",
              "      fill: #1967D2;\n",
              "      height: 32px;\n",
              "      padding: 0 0 0 0;\n",
              "      width: 32px;\n",
              "    }\n",
              "\n",
              "    .colab-df-convert:hover {\n",
              "      background-color: #E2EBFA;\n",
              "      box-shadow: 0px 1px 2px rgba(60, 64, 67, 0.3), 0px 1px 3px 1px rgba(60, 64, 67, 0.15);\n",
              "      fill: #174EA6;\n",
              "    }\n",
              "\n",
              "    [theme=dark] .colab-df-convert {\n",
              "      background-color: #3B4455;\n",
              "      fill: #D2E3FC;\n",
              "    }\n",
              "\n",
              "    [theme=dark] .colab-df-convert:hover {\n",
              "      background-color: #434B5C;\n",
              "      box-shadow: 0px 1px 3px 1px rgba(0, 0, 0, 0.15);\n",
              "      filter: drop-shadow(0px 1px 2px rgba(0, 0, 0, 0.3));\n",
              "      fill: #FFFFFF;\n",
              "    }\n",
              "  </style>\n",
              "\n",
              "      <script>\n",
              "        const buttonEl =\n",
              "          document.querySelector('#df-1a067f5f-f3d0-4ff4-9c48-c139ff52f616 button.colab-df-convert');\n",
              "        buttonEl.style.display =\n",
              "          google.colab.kernel.accessAllowed ? 'block' : 'none';\n",
              "\n",
              "        async function convertToInteractive(key) {\n",
              "          const element = document.querySelector('#df-1a067f5f-f3d0-4ff4-9c48-c139ff52f616');\n",
              "          const dataTable =\n",
              "            await google.colab.kernel.invokeFunction('convertToInteractive',\n",
              "                                                     [key], {});\n",
              "          if (!dataTable) return;\n",
              "\n",
              "          const docLinkHtml = 'Like what you see? Visit the ' +\n",
              "            '<a target=\"_blank\" href=https://colab.research.google.com/notebooks/data_table.ipynb>data table notebook</a>'\n",
              "            + ' to learn more about interactive tables.';\n",
              "          element.innerHTML = '';\n",
              "          dataTable['output_type'] = 'display_data';\n",
              "          await google.colab.output.renderOutput(dataTable, element);\n",
              "          const docLink = document.createElement('div');\n",
              "          docLink.innerHTML = docLinkHtml;\n",
              "          element.appendChild(docLink);\n",
              "        }\n",
              "      </script>\n",
              "    </div>\n",
              "  </div>\n",
              "  "
            ]
          },
          "metadata": {},
          "execution_count": 52
        }
      ]
    },
    {
      "cell_type": "markdown",
      "source": [
        "#### The table above shows the five products with the most web views"
      ],
      "metadata": {
        "id": "M9QoNEy61hex"
      }
    },
    {
      "cell_type": "markdown",
      "source": [
        "# Product Reduction Recommendation \n",
        "<a id='Analysis_Mean_Response_Time_by_Subject_1'></a>\n",
        "\n",
        "---\n",
        "-Build a model that can be used to suggest a 20% product reduction in this store <br>\n",
        "-Make a final list of 20% of the products to be removed <br>  "
      ],
      "metadata": {
        "id": "2k7NYFiQK2jD"
      }
    },
    {
      "cell_type": "markdown",
      "source": [
        "##### Clean the dataframe above to be ready to merge later"
      ],
      "metadata": {
        "id": "UHTgcZfY16Eo"
      }
    },
    {
      "cell_type": "code",
      "source": [
        "index_rename = join_events_products.rename(columns={0:'count_of_views'})\n",
        "join_product_event_clean = index_rename.fillna(0)"
      ],
      "metadata": {
        "id": "Od4nsJYa7ZdI"
      },
      "execution_count": 53,
      "outputs": []
    },
    {
      "cell_type": "markdown",
      "source": [
        "##### Create a dataframe with all items from the order_items dataframe where the status of the order is not 'Returned' or 'Cancelled'"
      ],
      "metadata": {
        "id": "1RylhaW02emU"
      }
    },
    {
      "cell_type": "code",
      "source": [
        "order_items_updated = order_items.loc[(order_items['status'] != 'Cancelled') & (order_items['status'] != 'Returned')]"
      ],
      "metadata": {
        "id": "W7IqFdBiYNV-"
      },
      "execution_count": 54,
      "outputs": []
    },
    {
      "cell_type": "markdown",
      "source": [
        "##### Pepare the dataframes to be merged by ensuing that both columns have the same name and a column that will be used to sum all of the instances a product is purchased"
      ],
      "metadata": {
        "id": "zUIBy5Y_21-e"
      }
    },
    {
      "cell_type": "code",
      "source": [
        "orderI_col_rename = order_items_updated.rename(columns={'product_id':'p_id'})\n",
        "\n",
        "join_product_event_clean = join_product_event_clean.rename(columns={'id':'p_id'})"
      ],
      "metadata": {
        "id": "Zk6vEgoQoTQO"
      },
      "execution_count": 55,
      "outputs": []
    },
    {
      "cell_type": "code",
      "source": [
        "orderI_col_rename['order_val_for_counting']=1\n",
        "\n",
        "orderI_count_return = pd.DataFrame(orderI_col_rename.groupby(['p_id'])['order_val_for_counting'].sum())\n",
        "\n",
        "orderI_count_return = orderI_count_return.reset_index()"
      ],
      "metadata": {
        "id": "BpxiIc06qT5D"
      },
      "execution_count": 59,
      "outputs": []
    },
    {
      "cell_type": "code",
      "source": [
        "rating_table = pd.merge(join_product_event_clean,orderI_count_return, on=[\"p_id\"],how=\"outer\")"
      ],
      "metadata": {
        "id": "806I0hFqxZ_k"
      },
      "execution_count": 61,
      "outputs": []
    },
    {
      "cell_type": "markdown",
      "source": [
        "##### Create a dataframe of brands and the number of times each is seen in the rating dataset. Next create a column that is a brand score, the higher the score is, the more often a brand is purchased.Then create a dictionary from this dataset. This will be used later when determining which products should be removed. "
      ],
      "metadata": {
        "id": "HXiwQTMd4QJg"
      }
    },
    {
      "cell_type": "code",
      "source": [
        "brand_df = pd.DataFrame(rating_table.brand.value_counts())"
      ],
      "metadata": {
        "id": "nMwmL1YVdR9V"
      },
      "execution_count": 62,
      "outputs": []
    },
    {
      "cell_type": "code",
      "source": [
        "brand_df_1 = brand_df.reset_index()\n",
        "brand_df_1.rename(columns={list(brand_df_1)[0]:'brand_name'}, inplace=True)\n",
        "brand_df_1.rename(columns={'brand':'brand_count'}, inplace=True)"
      ],
      "metadata": {
        "id": "qwUV2_uJtxsL"
      },
      "execution_count": 63,
      "outputs": []
    },
    {
      "cell_type": "code",
      "source": [
        "def brand_loyalty_score(brand_count):\n",
        "  if brand_count > 200:\n",
        "    return 1\n",
        "  elif brand_count < 50:\n",
        "    return 3\n",
        "  else: return 2\n",
        "\n",
        "brand_df_1['Status_Number'] = brand_df_1.apply(lambda x : brand_loyalty_score(x['brand_count']) , axis=1)\n",
        "brand_df_1 = brand_df_1.drop(['brand_count'],axis=1)\n",
        "brand_df_1= brand_df_1.set_index(['brand_name'])"
      ],
      "metadata": {
        "id": "W2XrW-AygsD1"
      },
      "execution_count": 64,
      "outputs": []
    },
    {
      "cell_type": "code",
      "source": [
        "brand_dict = brand_df_1.to_dict('index')"
      ],
      "metadata": {
        "id": "B_c-51x2xwKc"
      },
      "execution_count": 65,
      "outputs": []
    },
    {
      "cell_type": "markdown",
      "source": [
        "##### Now create a dictionary for the category column of that dataset. The higher the value associated with each category, the more often that category is seen in the rating dataset."
      ],
      "metadata": {
        "id": "so_YH5QW4-yb"
      }
    },
    {
      "cell_type": "code",
      "source": [
        "cat_dict = dict({'Intimates':26,'Jeans':25,'Tops & Tees':24,'Fashion Hoodies & Sweatshirts':23,'Swim':22,'Sleep & Lounge':21,'Shorts':20,'Sweaters':19,'Accessories':18,'Active':17,\n",
        "'Outerwear & Coats':16,'Underwear':15,'Pants':14,'Dresses':13,'Socks':12,'Maternity':11,'Plus':10,'Suits & Sport Coats':9,'Socks & Hosiery':8,'Pants & Capris':7,'Leggings':6,\n",
        "'Blazers & Jackets':5,'Skirts':4,'Suits':3,'Jumpsuits & Rompers':2,'Clothing Sets':1})"
      ],
      "metadata": {
        "id": "jkeSZgjPJzi5"
      },
      "execution_count": 67,
      "outputs": []
    },
    {
      "cell_type": "markdown",
      "source": [
        "##### Create two functions that will return a category score and brand score for each product. Then apply these functions to the rating_table dataset. These will give a numerical value to a categorical portion of data. Later these columns will be used in sorting the dataset to find the products that should be eliminated."
      ],
      "metadata": {
        "id": "G4E2F5Vy5mW6"
      }
    },
    {
      "cell_type": "code",
      "source": [
        "def cat_rating_function(category):\n",
        "  for key, value in cat_dict.items():\n",
        "        if key == category:\n",
        "          return value\n",
        "\n",
        "def brand_rating_function(brand):\n",
        "  for key, value in brand_dict.items():\n",
        "        if key == brand:\n",
        "          return brand_dict[brand]['Status_Number']"
      ],
      "metadata": {
        "id": "4UIMQjc8JRS2"
      },
      "execution_count": 68,
      "outputs": []
    },
    {
      "cell_type": "code",
      "source": [
        "rating_table['cat_rate']=rating_table.apply(lambda x : cat_rating_function(x['category']) , axis=1)\n",
        "rating_table['brand_rate']=rating_table.apply(lambda x : brand_rating_function(x['brand']) , axis=1)"
      ],
      "metadata": {
        "id": "fc-xIP-IL94g"
      },
      "execution_count": 69,
      "outputs": []
    },
    {
      "cell_type": "markdown",
      "source": [
        "##### Create a function that will aid in ranking the products provided. The function will sum the number of web views and the number of sales and subtract the category ranking. The assumption made here is that a company will want to keep products that are viewed and sold often while removing those who are not. The subtracting of the category score is so that products that are not sold often in categories that are sold often are more likely to be eliminated."
      ],
      "metadata": {
        "id": "TYSH9daQ6Pr2"
      }
    },
    {
      "cell_type": "code",
      "source": [
        "def product_rating_funct(web_views,count_of_sales,category_rating):\n",
        "  return web_views + count_of_sales - category_rating"
      ],
      "metadata": {
        "id": "1pjxvfbbqUBM"
      },
      "execution_count": 71,
      "outputs": []
    },
    {
      "cell_type": "code",
      "source": [
        "rating_table['product_rating'] = rating_table.apply(lambda x : product_rating_funct(x['count_of_web_views'],x['order_val_for_counting'],x['cat_rate']) , axis=1)\n",
        "rating_table_sorted_byFunction = rating_table.sort_values(by='product_rating',ascending=True)"
      ],
      "metadata": {
        "id": "OZvEB6OmqUEY"
      },
      "execution_count": 74,
      "outputs": []
    },
    {
      "cell_type": "markdown",
      "source": [
        "##### The dataframe will now be sorted. The dataframe is previously sorted based on the product rating. From here, ties in rank will be determined by the number of orders a product has, then the number of web views, and finally the brand of the product. The higher each of these values are, the more we want to keep each product. "
      ],
      "metadata": {
        "id": "Ta69xevC7da6"
      }
    },
    {
      "cell_type": "code",
      "source": [
        "rating_table_sorted_byFunction_AndCol = rating_table_sorted_byFunction.sort_values(['order_val_for_counting','count_of_web_views','cat_rate','brand_rate'])"
      ],
      "metadata": {
        "id": "OQc_JmicbAf7"
      },
      "execution_count": 76,
      "outputs": []
    },
    {
      "cell_type": "markdown",
      "source": [
        "##### From the sorted dataframe, create a list of 20% of the products that have the lowest scores. Then print the list of product ids to be removed. "
      ],
      "metadata": {
        "id": "kmUQhI_E8B6C"
      }
    },
    {
      "cell_type": "code",
      "source": [
        "products_to_remove_1 = rating_table_sorted_byFunction_AndCol['p_id'].tolist()\n",
        "rating_of_products_list = rating_table_sorted_byFunction_AndCol['product_rating'].tolist()\n",
        "end_limit = num_of_products_to_remove-1\n",
        "end_limit_1 = int(end_limit)\n",
        "products_to_remove = products_to_remove_1[0:end_limit_1]\n",
        "len(products_to_remove)"
      ],
      "metadata": {
        "colab": {
          "base_uri": "https://localhost:8080/"
        },
        "id": "9VZQOT7soTb8",
        "outputId": "6b46aba1-c1d7-44c3-f51d-dc91698f9c5f"
      },
      "execution_count": 78,
      "outputs": [
        {
          "output_type": "execute_result",
          "data": {
            "text/plain": [
              "5823"
            ]
          },
          "metadata": {},
          "execution_count": 78
        }
      ]
    },
    {
      "cell_type": "code",
      "source": [
        "print(products_to_remove)"
      ],
      "metadata": {
        "id": "gEhMhBvVN7YF",
        "colab": {
          "base_uri": "https://localhost:8080/"
        },
        "outputId": "68a6ad0a-7b5c-44a6-ad41-6ca2905bddf9"
      },
      "execution_count": 79,
      "outputs": [
        {
          "output_type": "stream",
          "name": "stdout",
          "text": [
            "[2891, 210, 270, 5573, 15581, 13426, 2055, 11090, 7232, 7600, 6188, 5609, 14617, 3654, 8612, 6524, 11264, 7957, 15289, 14341, 8682, 3030, 3069, 14018, 14191, 9935, 2051, 17707, 5031, 10400, 12273, 11921, 5213, 15791, 14394, 14684, 4041, 8551, 937, 1465, 1193, 9713, 1587, 4834, 11089, 11483, 11295, 10600, 11542, 11802, 7173, 7338, 5902, 5644, 5248, 9271, 15497, 15126, 14921, 24562, 3165, 14079, 898, 1263, 6501, 6977, 7028, 10270, 9962, 79, 17015, 4526, 4589, 12173, 4108, 8212, 8181, 8240, 7833, 7550, 6071, 5895, 9454, 9228, 9158, 15803, 14455, 14847, 14556, 3578, 3179, 25678, 8588, 18184, 3001, 13654, 13659, 13756, 1156, 9530, 12709, 2103, 17206, 517, 645, 4874, 10944, 12530, 11482, 11312, 11070, 8161, 6168, 6110, 5368, 5389, 8847, 9136, 9155, 15967, 15418, 15666, 15868, 14663, 3368, 3418, 3231, 2488, 14336, 14326, 13950, 1153, 1045, 6468, 23281, 6973, 6967, 13468, 28142, 13350, 27821, 2333, 2350, 615, 561, 696, 544, 455, 4892, 4911, 4314, 4670, 4922, 10959, 11071, 10695, 12083, 10589, 12475, 10602, 11138, 12041, 12544, 7742, 7787, 7531, 5856, 5224, 8876, 9208, 20170, 15676, 15665, 15965, 14534, 25194, 21679, 25756, 25674, 8541, 2581, 2716, 1486, 887, 19656, 1196, 792, 1453, 996, 1195, 6446, 7077, 27198, 9820, 9703, 10285, 9826, 9654, 9529, 13417, 13565, 28290, 13489, 13401, 13290, 1745, 2052, 1970, 20754, 4586, 11574, 12449, 11258, 12505, 10586, 11372, 11081, 8208, 7791, 6083, 6055, 5554, 5619, 9091, 9269, 9244, 20243, 15605, 15417, 14928, 3363, 3646, 3975, 3322, 3187, 3528, 25921, 26240, 8653, 8769, 8780, 8721, 28613, 13607, 28526, 1408, 1471, 1433, 23026, 9548, 9779, 27187, 10116, 10222, 9782, 10128, 10041, 28285, 13161, 13231, 12877, 12773, 13373, 1782, 2384, 2301, 2094, 1860, 2272, 16611, 603, 198, 610, 4584, 21122, 4543, 4327, 4711, 10744, 10383, 12380, 10366, 10681, 12290, 12128, 10398, 10529, 11605, 11650, 11188, 10673, 11521, 4093, 4102, 7269, 7130, 7209, 7163, 8008, 7950, 7751, 6183, 5970, 6005, 5442, 5134, 5628, 5668, 5525, 9440, 9168, 9391, 9420, 15754, 15517, 15265, 14975, 15171, 14514, 14429, 14670, 14871, 14727, 25133, 3286, 3716, 3358, 3629, 22374, 8746, 8767, 3093, 3094, 2709, 13689, 14153, 14261, 14207, 13823, 14058, 13973, 14262, 1522, 884, 19206, 1200, 7021, 6597, 22711, 23158, 7006, 7097, 10016, 27857, 13254, 12928, 13181, 13552, 13203, 28052, 13295, 1771, 2217, 1855, 2098, 1739, 1613, 17368, 351, 16968, 306, 68, 196, 16071, 5034, 4517, 5044, 4288, 4866, 11671, 11105, 11644, 10836, 11360, 12252, 12616, 11244, 11953, 12191, 11119, 4184, 4144, 8118, 7223, 8009, 7568, 6179, 6024, 5277, 5239, 5212, 5620, 9319, 8971, 20207, 15308, 15673, 15268, 15383, 15315, 14474, 14615, 14717, 14492, 14959, 15231, 3236, 3415, 3474, 3719, 3536, 3361, 3287, 3840, 3242, 3307, 21694, 21927, 21851, 26112, 25902, 26039, 26418, 8631, 23950, 8621, 8656, 8453, 2819, 2864, 2439, 2880, 14137, 13804, 14244, 14299, 14106, 14149, 29095, 13714, 1223, 19175, 1203, 959, 1515, 19484, 19205, 19594, 23172, 6833, 6592, 23136, 7047, 6587, 26657, 26973, 10184, 9583, 13386, 27849, 27921, 27541, 12940, 13548, 12909, 13036, 13341, 2024, 1763, 17175, 2150, 1770, 1670, 1792, 17042, 436, 14, 327, 4830, 4752, 4975, 21357, 5054, 4473, 10896, 10651, 12048, 12104, 10933, 12140, 12696, 10715, 7099, 7260, 7546, 7812, 5994, 5380, 5549, 9094, 9055, 20333, 15240, 15650, 15247, 14933, 14676, 14614, 15017, 14418, 14718, 25320, 25258, 3245, 3319, 3159, 3750, 3445, 3534, 3325, 22595, 21707, 22388, 25525, 26114, 26297, 8668, 8691, 8690, 18311, 2860, 14259, 1348, 1095, 1163, 7067, 23609, 22828, 23370, 22845, 23300, 27107, 27125, 9522, 10344, 9697, 13111, 27711, 28112, 13090, 12759, 13343, 13326, 13262, 1727, 1704, 1899, 17131, 17251, 1755, 2228, 17694, 339, 344, 724, 8, 248, 16754, 67, 376, 587, 20918, 4578, 4714, 4451, 4878, 4215, 4355, 11076, 12341, 11765, 12373, 11339, 11100, 11419, 11430, 10584, 11760, 11082, 12124, 12520, 4127, 4192, 8164, 7356, 7524, 7810, 5862, 5797, 5160, 5521, 5364, 9424, 9065, 9126, 9403, 20264, 15457, 15913, 15886, 15372, 14355, 24686, 3480, 3883, 3825, 22665, 25930, 25559, 24208, 8353, 8573, 8663, 8525, 24201, 23967, 24144, 8805, 8305, 8359, 2808, 2988, 2958, 18132, 18154, 14322, 28547, 13961, 19288, 1292, 19588, 1429, 1353, 19582, 19430, 19787, 22881, 23378, 6498, 22897, 10181, 26672, 27000, 12983, 13583, 13332, 17602, 2355, 1817, 17581, 2388, 2116, 1705, 16092, 681, 16025, 183, 608, 4666, 4576, 20989, 20566, 21563, 4392, 12495, 10596, 10355, 11792, 11804, 11257, 4138, 4173, 4089, 8174, 7836, 7922, 7611, 5935, 5907, 6096, 6165, 5107, 5466, 9058, 15330, 15865, 15554, 15092, 14742, 14709, 14568, 14453, 24583, 25077, 3263, 3960, 3207, 3787, 21951, 22681, 21846, 25748, 8710, 8496, 8772, 24196, 2761, 2492, 2443, 18532, 2856, 18518, 18675, 2442, 29055, 29019, 13828, 13763, 13696, 1160, 1325, 22901, 22708, 6944, 10309, 9629, 9897, 10305, 13080, 12914, 28209, 28028, 2403, 1644, 1808, 2363, 1858, 1772, 1793, 2141, 18033, 16957, 16123, 4312, 5021, 21166, 4432, 21062, 4265, 4383, 4376, 20928, 21241, 21565, 4682, 4417, 21412, 11907, 11004, 10356, 12368, 12070, 11695, 11806, 11797, 10663, 11962, 11350, 11446, 8103, 8072, 7731, 7945, 5873, 6230, 5958, 6045, 5648, 8943, 8998, 9353, 9392, 20155, 20169, 15352, 15404, 15761, 14491, 14804, 24464, 3433, 21709, 22625, 22279, 25453, 25783, 8595, 24386, 8564, 8488, 8370, 8704, 24042, 2702, 2978, 2869, 29081, 28374, 14276, 14169, 18905, 19692, 19327, 6325, 22957, 27273, 27227, 26467, 27007, 9657, 26662, 27928, 27422, 27881, 28035, 13516, 17758, 17688, 2401, 1872, 1859, 2224, 16019, 127, 294, 777, 153, 16592, 16719, 70, 4868, 10707, 12294, 11944, 12496, 10674, 11481, 11678, 12203, 7177, 7650, 5391, 5222, 9198, 9241, 15583, 15342, 15749, 14834, 24584, 25193, 3277, 3321, 3441, 3723, 22102, 22154, 22191, 22437, 25879, 23841, 24444, 24135, 23781, 18059, 13918, 28788, 28519, 14075, 1103, 1130, 1151, 1303, 19728, 1244, 23146, 6302, 22770, 6702, 6852, 6404, 22705, 6998, 9844, 9838, 9538, 28234, 13280, 1989, 2007, 17090, 1534, 17448, 17504, 1604, 16684, 102, 355, 386, 16627, 4295, 21240, 4349, 21342, 4967, 4500, 20565, 20772, 10760, 12326, 11837, 11230, 7373, 7910, 6213, 5799, 5441, 5296, 9203, 9061, 9159, 9345, 20037, 19955, 20038, 20215, 15977, 15841, 14720, 15061, 14843, 14637, 24872, 25151, 3272, 3306, 3886, 22042, 22054, 21980, 25870, 25820, 24338, 8512, 8677, 18405, 18381, 2927, 2663, 28504, 13694, 28443, 19088, 19572, 19675, 1490, 18826, 22716, 22877, 6532, 6765, 22736, 6336, 6846, 26601, 26824, 27253, 9520, 10255, 28247, 13538, 27734, 12800, 27991, 18038, 2341, 17702, 458, 644, 16156, 16603, 4681, 4476, 4610, 21624, 21589, 21048, 21204, 21352, 11712, 12224, 12265, 4067, 7102, 5162, 9388, 20225, 20257, 20063, 14990, 15134, 25334, 3389, 3508, 3969, 22290, 22087, 25434, 26383, 25392, 8819, 24178, 8489, 18566, 13641, 28994, 14076, 1380, 6774, 22713, 6686, 6650, 26533, 10262, 9616, 26796, 27398, 27496, 27476, 13594, 28120, 1783, 2164, 17620, 111, 16219, 21235, 4445, 4608, 21136, 4648, 11520, 10704, 7136, 7852, 20162, 20040, 20228, 24991, 25186, 25117, 3332, 3947, 3785, 4001, 22629, 25852, 23933, 24204, 24087, 8719, 24137, 18790, 2821, 3039, 18651, 14253, 13780, 13754, 1477, 817, 1048, 27592, 13461, 28135, 12765, 1622, 18041, 2267, 212, 398, 16961, 4935, 20732, 4501, 21210, 11107, 12405, 11000, 11632, 7378, 5409, 9343, 20450, 19876, 20370, 19813, 20499, 20466, 15982, 24658, 25172, 3282, 3901, 22037, 23983, 2580, 18485, 18362, 13690, 28708, 22719, 23309, 6652, 27239, 27355, 9691, 26558, 27518, 12862, 13385, 12951, 27898, 17211, 2043, 2039, 17780, 17869, 16938, 4641, 10813, 10459, 12130, 7155, 7538, 5114, 14486, 24729, 3483, 22609, 25892, 26123, 26144, 18222, 2832, 18432, 28748, 28997, 1082, 6283, 22766, 23423, 10195, 2033, 2119, 17741, 17993, 16595, 4957, 21387, 4513, 21109, 21047, 8134, 7507, 9455, 15533, 15918, 14934, 25035, 21697, 26201, 25567, 23921, 23850, 24239, 18881, 23288, 6952, 7035, 23517, 10102, 27565, 288, 5026, 20875, 12663, 12575, 10563, 5615, 20415, 24714, 25069, 25049, 3388, 3631, 22618, 22069, 19777, 19184, 23526, 26563, 28225, 17202, 16446, 20851, 10861, 8341, 28436, 28453, 14083, 14327, 19041, 9511, 10119, 27907, 13279, 17414, 1740, 4424, 12355, 7621, 25377, 25448, 18539, 14260, 28572, 28637, 27252, 28183, 20698, 5724, 20391, 24838, 24966, 22267, 25670, 2538, 28762, 27497, 17434, 11421, 19899, 28758, 16114, 26502, 26955, 16201, 7745, 23004, 22707, 18619, 12768, 16884, 20914, 4958, 6206, 13581, 229, 12080, 8849, 8409, 1289, 6996, 6581, 5706, 15608, 15500, 15384, 15534, 15104, 14214, 12871, 13052, 12580, 4141, 7427, 7399, 7315, 5560, 8936, 15706, 15792, 3851, 3420, 8530, 2452, 13915, 22785, 10082, 10284, 13258, 1746, 2339, 98, 4723, 4546, 12141, 11191, 11282, 4188, 6140, 5707, 9166, 14829, 15063, 3184, 3329, 8675, 2638, 3059, 2511, 3010, 28341, 938, 19060, 6983, 9956, 10174, 9631, 13270, 27753, 13115, 2390, 4346, 4888, 12402, 11862, 4057, 4072, 7245, 6194, 5978, 9183, 20190, 15875, 15459, 15734, 15250, 15098, 3611, 3850, 3386, 2726, 28483, 14313, 13636, 1240, 995, 1249, 6571, 7076, 6627, 26602, 10096, 13518, 13320, 2222, 2330, 17920, 20556, 4364, 4287, 4381, 20650, 10428, 12657, 10656, 12547, 11928, 11734, 12604, 8149, 7198, 7374, 7862, 7821, 7567, 6269, 5900, 5133, 5594, 5315, 5263, 9045, 15439, 15609, 15292, 14757, 14923, 14799, 15080, 24860, 3748, 3342, 3681, 3656, 3129, 3963, 3355, 8452, 8426, 8781, 2931, 2468, 3047, 2707, 13648, 14273, 14127, 1019, 18963, 6430, 23346, 6960, 10111, 9763, 10290, 13566, 2045, 1832, 734, 6, 4393, 4943, 4588, 4974, 4843, 4555, 11066, 10413, 11087, 11398, 12667, 12675, 12609, 11254, 12177, 11219, 12383, 11865, 11858, 8047, 4191, 4140, 8141, 8245, 7436, 7993, 7711, 7486, 7931, 7637, 5944, 6022, 6082, 5933, 5683, 5675, 5437, 9163, 9119, 15801, 15659, 15056, 15139, 14628, 14977, 24671, 3227, 3925, 3612, 3736, 3378, 22091, 26158, 2686, 2571, 2467, 2797, 18495, 2816, 2636, 3004, 28649, 13761, 14009, 987, 19025, 6815, 23213, 6835, 6391, 9671, 9861, 9742, 27258, 9574, 27436, 13429, 12844, 2417, 2404, 1937, 1809, 1748, 16442, 16275, 442, 34, 16375, 263, 4820, 5025, 10856, 10994, 12386, 10396, 11584, 10438, 10571, 11687, 12144, 11072, 10601, 8060, 4157, 4074, 7384, 7456, 7612, 7803, 7614, 7976, 7628, 6115, 6108, 5211, 5469, 5130, 5654, 5538, 9254, 8895, 8931, 9485, 19802, 15662, 15751, 15675, 14636, 14924, 14771, 15096, 15029, 3440, 3671, 3989, 3233, 3132, 21783, 26162, 26293, 25712, 8302, 8471, 8265, 8602, 8328, 8319, 8579, 8723, 24033, 2833, 2936, 3020, 29094, 13728, 1391, 1394, 1077, 1473, 1154, 856, 6317, 23210, 23244, 6521, 6275, 6739, 6648, 6980, 9835, 9637, 9808, 26522, 9979, 9787, 9759, 9900, 9927, 27567, 27689, 13169, 28187, 12881, 13200, 13544, 12821, 13529, 27760, 1530, 2070, 2399, 1573, 1927, 337, 16869, 16630, 16208, 617, 267, 567, 4319, 21177, 4470, 10608, 11067, 10719, 11955, 11361, 12152, 12693, 11428, 10351, 12620, 12099, 11947, 11939, 10374, 8036, 4147, 4123, 4161, 8071, 7115, 7334, 7221, 7290, 7626, 7485, 7645, 7991, 5555, 5352, 9070, 8927, 9182, 9495, 9398, 9482, 9192, 9318, 9489, 9447, 8904, 9213, 9326, 9412, 9118, 9302, 20336, 15551, 15489, 15760, 14893, 15003, 14403, 14694, 24754, 3741, 4050, 3852, 3865, 3268, 3595, 3469, 3929, 3591, 3801, 3374, 22315, 26003, 23770, 8817, 8553, 8607, 8570, 23970, 24063, 8740, 18710, 2457, 2510, 2482, 2911, 2887, 3031, 2921, 14289, 28546, 14330, 13679, 13616, 13700, 28846, 19121, 1174, 1340, 19109, 1180, 901, 1171, 19612, 19604, 6752, 23347, 6810, 6903, 6545, 27209, 27139, 27268, 27095, 10219, 10003, 9559, 13367, 13010, 12972, 13162, 13585, 13143, 27499, 13015, 2243, 1974, 1572, 1922, 1574, 17919, 2122, 17841, 2352, 17104, 1972, 521, 524, 273, 452, 471, 392, 654, 316, 459, 74, 137, 620, 4746, 4404, 20950, 21359, 20893, 4406, 5039, 4367, 4435, 4761, 10708, 10550, 12455, 10985, 10705, 11008, 11367, 12270, 11706, 11340, 12453, 10807, 11672, 10499, 10647, 11967, 12647, 12579, 11422, 11976, 4084, 4066, 8064, 7377, 7943, 7492, 7475, 7717, 6090, 6248, 5809, 5758, 6242, 5953, 6046, 5704, 5576, 5504, 9425, 9233, 9014, 8942, 9129, 20498, 20226, 19941, 15327, 15719, 15361, 15626, 15668, 15798, 15043, 14968, 14361, 14349, 14979, 14863, 14909, 14577, 14532, 3732, 3844, 3985, 3505, 3670, 3255, 3571, 22634, 22678, 22080, 25661, 26246, 26322, 8540, 8336, 24157, 8660, 23937, 23976, 8539, 8503, 18489, 18308, 2449, 2829, 2740, 28392, 13810, 13713, 13836, 28938, 28868, 14141, 13995, 14123, 13610, 13710, 14025, 14239, 1464, 1097, 1432, 918, 1003, 19454, 18877, 19000, 6329, 23030, 22923, 7084, 6847, 6801, 6546, 6720, 6547, 6495, 6797, 6544, 23580, 6758, 6567, 22866, 27303, 9943, 9882, 27314, 26839, 26905, 26690, 10141, 9836, 10266, 10161, 9584, 9784, 10117, 9839, 27638, 27434, 12974, 13309, 27801, 13212, 12979, 13303, 13292, 13113, 2118, 1977, 1742, 17149, 2053, 17794, 2211, 2262, 425, 16900, 16514, 16423, 686, 16084, 269, 613, 543, 585, 753, 16141, 4359, 4718, 4693, 4285, 21248, 4462, 4786, 21587, 4631, 5099, 4954, 10920, 10975, 10631, 10834, 11237, 12668, 11065, 11724, 11959, 11875, 11830, 12510, 11083, 10967, 12664, 11006, 12050, 8046, 8051, 8194, 8247, 7431, 7336, 7925, 7820, 7513, 7718, 7510, 5975, 5746, 5448, 5333, 5596, 5444, 9372, 9505, 9073, 9279, 9207, 9286, 8883, 20050, 15331, 15746, 15695, 15679, 15757, 15631, 15477, 15253, 15683, 15846, 15741, 15903, 15733, 15156, 14423, 14384, 14889, 14685, 14876, 15070, 15087, 15111, 14645, 14572, 14936, 14680, 14591, 24504, 25045, 25328, 3585, 3614, 3990, 3927, 3892, 3951, 4002, 3977, 3935, 3182, 3317, 3745, 3699, 3117, 3627, 22605, 22465, 21809, 22059, 26188, 25420, 26448, 25855, 23799, 23830, 8368, 8711, 8299, 8420, 18293, 2999, 18478, 2846, 2889, 18728, 18461, 2734, 18685, 2777, 2938, 2774, 2683, 14275, 13776, 13727, 13956, 13966, 14101, 14026, 13716, 14226, 28379, 1190, 19642, 1286, 830, 19230, 19239, 827, 1407, 1498, 990, 6617, 6333, 6902, 6299, 7013, 6537, 6901, 23198, 23228, 23568, 6971, 6510, 7023, 6754, 7014, 6859, 27151, 9679, 9944, 10293, 26859, 10057, 10069, 27135, 10233, 10114, 9704, 9985, 9577, 10280, 9822, 9514, 10318, 9557, 10193, 10170, 13075, 28287, 28017, 13405, 13431, 12986, 27589, 13242, 1595, 1584, 2032, 2058, 17589, 17190, 1774, 1549, 17311, 17363, 1614, 1983, 1947, 17864, 1624, 17966, 2368, 17465, 1703, 17999, 614, 360, 16458, 308, 16873, 175, 716, 261, 174, 16578, 297, 52, 4573, 20899, 20636, 4508, 4239, 21251, 4841, 4676, 4945, 11511, 10544, 11426, 10547, 11209, 12408, 11387, 10365, 12637, 11179, 10976, 11688, 12146, 10938, 11313, 10421, 10557, 11850, 11750, 11299, 12665, 12105, 11459, 12539, 12108, 8043, 7176, 7279, 7772, 7984, 7660, 7635, 7697, 7837, 7561, 5952, 5786, 6215, 5928, 6101, 5879, 6158, 6057, 5154, 5425, 5340, 5558, 5645, 8947, 9012, 9336, 20074, 19924, 20181, 15528, 15309, 15433, 15794, 15373, 15937, 15498, 14946, 14839, 14475, 14356, 14966, 14918, 14412, 14788, 14689, 14386, 14944, 15076, 14708, 14870, 25129, 25141, 25122, 25195, 3442, 3281, 3817, 4034, 3520, 4000, 3904, 3756, 3163, 3340, 3326, 4028, 3980, 3827, 3770, 21719, 21682, 21957, 25428, 25511, 26023, 26376, 25597, 8567, 8349, 8687, 24036, 23659, 23722, 8495, 23840, 8300, 8700, 8637, 18051, 2527, 2545, 2783, 2603, 2692, 2815, 2736, 2974, 2576, 18229, 18393, 2564, 13821, 14092, 13789, 29079, 13701, 13612, 28926, 13872, 28631, 14172, 13762, 19731, 1214, 19382, 19502, 19300, 19302, 19605, 19258, 18802, 978, 1053, 1001, 19004, 7001, 23038, 6742, 23403, 7063, 6612, 6976, 6630, 23519, 26571, 9941, 27087, 9553, 10099, 9707, 27080, 26894, 12820, 13091, 13365, 13478, 13004, 13369, 13400, 13545, 12796, 12946, 13353, 13496, 12855, 2115, 2187, 17144, 2291, 1866, 2270, 1531, 1961, 17632, 17558, 17946, 1686, 1850, 1804, 2157, 1647, 17579, 17637, 17526, 478, 558, 201, 218, 16088, 125, 16150, 16090, 764, 365, 16563, 46, 408, 574, 691, 758, 4669, 4690, 4467, 4791, 4529, 20861, 5064, 21446, 10794, 12465, 12462, 11922, 10764, 11539, 11346, 10819, 12017, 11253, 12084, 11009, 11246, 11560, 11223, 10862, 10937, 12685, 11773, 12295, 12528, 12174, 12222, 11698, 4166, 4145, 4090, 7344, 7367, 7366, 7212, 7430, 7286, 7913, 7503, 7956, 6073, 5766, 6203, 6190, 6031, 6114, 5299, 5373, 5413, 5465, 5183, 5542, 5270, 8977, 9464, 9253, 20272, 15390, 15303, 15295, 15775, 15975, 15236, 14901, 14434, 14756, 15132, 14651, 14350, 14422, 14461, 14607, 14826, 15010, 25174, 24981, 25204, 25268, 3324, 3211, 3108, 3567, 3098, 3587, 3121, 3962, 3384, 3436, 3625, 3438, 3809, 3782, 3372, 4008, 21753, 22256, 21858, 22613, 22415, 22588, 25705, 25497, 25651, 26340, 26215, 25683, 8739, 8536, 8480, 24028, 8435, 8729, 8296, 23784, 18133, 2641, 2987, 2854, 2640, 2561, 2614, 2979, 2905, 3008, 2714, 18326, 28355, 28580, 13819, 28514, 28574, 28312, 29076, 29044, 14317, 14192, 14220, 14250, 13751, 13663, 14029, 1209, 1252, 1378, 1041, 964, 1226, 1495, 1293, 19402, 1395, 1459, 1480, 6354, 6699, 6962, 6826, 6932, 6399, 6605, 6324, 23064, 6681, 10060, 9545, 9811, 9814, 27190, 26954, 26916, 10159, 10104, 9960, 9699, 9968, 10075, 27332, 27188, 26630, 12970, 13587, 13223, 12839, 13479, 27919, 13042, 13304, 13101, 17953, 17885, 17388, 1833, 1561, 1930, 1684, 17516, 17256, 1592, 2299, 1590, 2206, 2203, 2354, 16433, 321, 16388, 16305, 145, 16772, 391, 311, 16063, 16455, 491, 17053, 687, 16489, 4411, 4909, 4931, 20768, 21046, 21163, 20643, 4970, 4617, 4503, 21410, 21443, 4802, 5038, 10731, 12225, 12516, 11373, 10450, 10983, 11508, 11388, 12371, 12274, 12018, 11458, 10513, 11524, 12072, 11140, 11859, 10645, 11571, 11502, 11063, 11273, 12370, 12307, 10759, 12445, 12649, 12670, 11936, 12145, 4069, 4172, 4143, 4076, 4125, 4103, 8108, 8238, 7410, 7381, 7201, 7556, 7929, 7575, 7540, 8013, 7709, 5863, 6174, 6254, 6170, 6187, 5789, 5577, 5496, 5630, 5676, 5430, 5603, 9075, 8841, 9394, 9043, 9231, 20256, 20322, 20477, 15513, 15426, 15890, 15776, 15432, 15540, 15512, 14905, 14854, 14639, 14758, 14500, 14442, 14467, 24512, 25057, 24985, 24956, 25075, 24645, 25269, 24550, 3461, 3381, 3362, 3240, 3647, 3751, 3152, 22385, 21759, 22293, 22587, 25689, 26209, 25557, 23721, 23676, 23910, 8801, 24112, 8725, 8397, 24394, 8652, 8718, 8375, 8726, 8796, 18361, 18047, 2882, 2803, 2682, 18231, 18316, 2486, 18559, 18602, 18096, 2862, 2595, 3087, 2483, 13611, 13787, 13604, 28668, 28383, 13882, 14015, 1027, 19199, 19170, 1039, 939, 6564, 22837, 23086, 22895, 7004, 6407, 6943, 6734, 23328, 6819, 10046, 27246, 10274, 9832, 9878, 26867, 27006, 27304, 27220, 26895, 9692, 9778, 9621, 13390, 13293, 12731, 27931, 13237, 13074, 27752, 27682, 13092, 17640, 1931, 17607, 17293, 2144, 1591, 17852, 17921, 1548, 1719, 1907, 1552, 16059, 643, 495, 548, 16655, 488, 444, 354, 16335, 314, 649, 621, 45, 16579, 17038, 223, 399, 4342, 20569, 20649, 21469, 4323, 21555, 4235, 20858, 21028, 20971, 4890, 21351, 4251, 4726, 20538, 10810, 10814, 11068, 12431, 10931, 11716, 10385, 11821, 11741, 12590, 11182, 11963, 11293, 12229, 11742, 12193, 12226, 11056, 12135, 11022, 12299, 11161, 11711, 10503, 11575, 10655, 10516, 11031, 8052, 4167, 4054, 7332, 7455, 7106, 7445, 7369, 7226, 7255, 8001, 7719, 6119, 5730, 5834, 6103, 5468, 5396, 5658, 9406, 9139, 8906, 9478, 9497, 9003, 9225, 8882, 9507, 8852, 9432, 20000, 19987, 20404, 19936, 15629, 15357, 15346, 15521, 15778, 15546, 15917, 15956, 14930, 15173, 14458, 15165, 14523, 14648, 14638, 14433, 14410, 24458, 24728, 25064, 3812, 3259, 3230, 3783, 3201, 4013, 4004, 3583, 21839, 21937, 22615, 22451, 21756, 22643, 22507, 22527, 26261, 26424, 25728, 24048, 8535, 8269, 8809, 24051, 24419, 8436, 24468, 8763, 8828, 8478, 8625, 18634, 2648, 18481, 2685, 2700, 3068, 18763, 18768, 28910, 14187, 14121, 14071, 14285, 14095, 13853, 13979, 837, 1017, 19181, 18847, 19630, 1074, 19527, 1002, 19720, 19280, 19543, 19217, 6490, 23563, 6338, 6748, 23573, 23121, 26515, 26871, 9658, 26834, 26689, 10217, 9971, 9915, 10235, 10005, 27816, 12846, 13260, 12815, 13549, 28196, 13584, 13561, 1620, 1890, 17954, 2107, 2191, 2106, 2170, 1901, 1721, 17173, 17816, 281, 16261, 16823, 16850, 16650, 16323, 505, 268, 16985, 16338, 100, 510, 239, 97, 4379, 5059, 4439, 4421, 20926, 20658, 20896, 20819, 20820, 5058, 4600, 4599, 4737, 21334, 21213, 10806, 10832, 10388, 12272, 11503, 11203, 11359, 11135, 11303, 11198, 11679, 11472, 11673, 12119, 4155, 8135, 7214, 7599, 7937, 7654, 7902, 6229, 6176, 6184, 6123, 5641, 5161, 5273, 5484, 5536, 5539, 5178, 9127, 9256, 8862, 9364, 9222, 9474, 9063, 9451, 20346, 15462, 15611, 15715, 15246, 15814, 14704, 15122, 15127, 14550, 15109, 14411, 14949, 24768, 25081, 24636, 24537, 24622, 25227, 3518, 3175, 3896, 3457, 3964, 3206, 22554, 25647, 25582, 25979, 25949, 25507, 23729, 24046, 8289, 8745, 2953, 2591, 18176, 18384, 18470, 2764, 3084, 18239, 2738, 2664, 28592, 29088, 13596, 13626, 13651, 14311, 14230, 14151, 13936, 13858, 19270, 18862, 1073, 19084, 19062, 19570, 18878, 19348, 1221, 804, 6308, 6904, 23443, 6342, 6889, 7002, 22751, 23572, 23028, 6534, 7088, 6956, 7031, 6465, 23046, 27228, 26962, 10148, 9846, 10129, 10312, 9818, 13318, 27494, 13521, 12885, 13150, 28065, 12837, 13255, 28064, 27771, 18023, 17083, 2373, 17140, 2102, 1569, 2129, 2240, 1579, 16113, 701, 16704, 16720, 217, 16195, 16811, 66, 16852, 765, 626, 216, 20547, 4388, 4456, 4468, 4311, 21442, 21151, 20661, 4438, 5086, 21019, 20765, 4999, 4293, 4797, 5085, 12439, 10342, 10439, 11181, 10847, 12644, 10812, 10417, 12468, 12015, 12385, 12179, 10552, 11079, 10444, 11771, 12251, 11492, 11844, 12182, 8062, 8180, 7306, 7278, 7557, 7525, 7839, 8015, 7605, 7501, 6104, 5453, 5432, 5149, 5343, 5571, 5471, 5431, 9311, 9268, 9212, 9274, 9259, 9196, 8865, 19966, 20266, 20286, 15619, 15239, 15851, 15907, 14379, 14609, 14853, 14939, 14469, 14610, 24655, 25162, 24711, 25273, 24913, 25222, 24480, 3859, 3934, 3726, 3371, 3408, 3267, 22490, 22033, 22031, 21885, 22020, 22476, 22136, 22270, 25375, 25915, 26005, 26037, 25846, 25600, 25475, 26370, 25695, 25924, 8562, 24131, 8559, 18115, 3072, 2665, 18453, 18394, 18112, 18130, 2884, 18437, 2558, 2804, 13997, 13926, 14236, 14053, 28404, 13601, 13964, 13818, 13653, 1143, 18850, 19579, 1318, 1266, 19128, 18821, 1215, 1251, 19228, 19271, 19700, 23062, 6419, 22975, 23269, 22889, 22937, 22876, 6570, 6461, 23231, 23409, 26814, 26908, 10012, 9635, 26551, 27366, 26742, 26979, 26671, 13420, 27930, 12908, 28088, 27904, 13077, 13180, 13276, 13147, 27516, 28202, 28113, 27686, 12825, 1716, 17961, 17370, 1630, 2121, 2049, 1776, 18020, 1600, 17806, 1547, 750, 16612, 16254, 16192, 278, 162, 209, 16490, 501, 648, 17047, 487, 17006, 249, 16729, 619, 16277, 706, 4409, 20542, 20766, 20679, 4472, 20774, 21141, 20912, 21524, 21630, 21392, 20537, 4692, 21453, 5092, 10796, 10456, 11405, 11402, 12348, 12337, 11713, 10697, 10399, 12208, 12241, 12096, 12129, 12109, 12269, 8122, 7449, 7451, 5971, 6118, 5894, 5795, 5920, 5714, 5349, 5386, 5587, 5370, 9123, 9290, 9416, 19865, 20263, 20318, 20503, 20528, 15555, 15817, 15704, 14456, 14503, 15157, 14786, 15116, 14621, 14548, 15060, 14777, 15142, 24519, 24976, 24826, 24977, 3209, 3251, 3312, 3676, 3765, 3863, 3961, 3891, 3684, 22398, 22690, 22070, 22094, 22213, 22466, 22419, 22623, 25484, 26118, 25767, 25676, 25518, 25612, 25873, 26352, 25593, 26355, 26108, 8679, 24413, 8589, 8514, 8743, 23764, 23793, 18172, 18681, 2730, 2578, 2780, 2695, 18463, 28477, 28707, 14098, 28369, 13955, 13725, 28811, 28474, 28559, 19072, 19504, 19369, 18809, 19477, 883, 971, 1384, 19340, 965, 22861, 22817, 6539, 22784, 6489, 6662, 27106, 27286, 27009, 9659, 10101, 9515, 27329, 9893, 27356, 27038, 10243, 10154, 26892, 9642, 9853, 26694, 26637, 27910, 13060, 28002, 27934, 12715, 12942, 13167, 27841, 28168, 28224, 1646, 1982, 17391, 17838, 17479, 17910, 1730, 1870, 2084, 1940, 2273, 17624, 17943, 2155, 16250, 114, 16643, 16905, 16047, 16370, 4436, 4230, 20970, 20681, 20720, 4938, 5075, 4949, 21131, 20740, 11132, 11703, 11034, 10898, 11357, 12466, 11137, 11554, 12184, 12336, 12064, 10629, 11247, 7403, 7672, 7980, 7494, 7928, 7682, 7789, 6195, 6243, 5312, 5328, 5524, 5601, 5164, 5503, 5180, 5663, 8976, 9059, 9417, 19922, 19885, 20218, 20148, 15319, 15325, 14931, 14849, 15213, 14370, 14754, 14554, 15059, 25040, 24819, 25232, 25233, 24864, 3724, 3310, 3710, 3367, 3915, 22511, 21820, 22434, 21712, 21736, 25368, 25399, 25764, 24103, 24395, 8645, 23829, 8537, 24158, 24455, 24283, 8807, 18114, 18720, 3045, 2594, 18715, 2724, 18333, 18449, 3051, 2493, 2616, 28794, 28741, 28666, 14085, 14290, 14255, 19756, 19370, 1178, 19670, 23120, 22882, 6718, 23565, 23496, 27077, 9922, 9963, 10260, 9953, 9739, 26680, 26980, 9543, 13563, 27903, 27947, 13540, 28056, 28055, 27769, 28257, 27504, 27402, 12847, 13574, 12913, 12758, 28012, 17427, 17874, 17403, 2280, 1542, 1846, 18027, 1920, 17451, 2178, 2263, 2014, 17595, 16131, 16546, 569, 583, 16347, 16680, 47, 110, 689, 80, 21273, 4373, 20956, 21549, 4855, 4707, 21429, 4611, 20890, 20947, 20797, 10943, 12414, 10734, 11267, 12511, 10851, 12697, 11015, 11044, 8095, 8139, 7244, 7193, 6266, 5489, 5118, 5701, 9313, 20229, 19820, 15828, 15587, 15284, 14452, 24694, 24841, 24856, 25362, 25024, 3599, 3918, 3456, 3640, 22175, 21841, 21701, 22637, 21994, 22118, 22334, 22284, 25372, 26171, 25971, 26396, 25515, 8459, 24436, 24343, 24074, 24440, 18490, 2871, 18648, 28308, 28721, 13963, 28941, 14201, 28726, 28516, 1113, 948, 19078, 19167, 18807, 19331, 19013, 19793, 6366, 23564, 22756, 22759, 22698, 7052, 6328, 9585, 10163, 27133, 27100, 27003, 10074, 13459, 28293, 27487, 17736, 17546, 2004, 17161, 2111, 2285, 1910, 1794, 16930, 16176, 16468, 16696, 16451, 16405, 775, 119, 609, 21635, 21110, 21275, 21191, 11155, 11314, 11516, 11710, 12169, 11570, 12560, 12201, 12026, 4163, 4062, 8183, 7580, 7601, 6224, 5785, 5329, 5200, 9172, 9138, 20114, 20064, 19892, 15395, 15401, 15935, 14332, 15051, 24938, 3957, 3798, 3884, 3966, 3541, 21941, 22295, 22009, 22162, 22455, 22179, 21789, 22062, 25719, 26086, 25785, 26160, 8732, 24159, 8773, 8511, 24167, 24084, 18526, 18629, 18591, 2728, 18454, 28795, 13841, 1049, 19650, 19209, 19125, 1128, 19615, 6855, 6760, 6991, 6505, 6554, 23613, 6794, 22927, 22964, 27231, 26501, 26565, 10166, 9793, 10140, 9828, 28227, 28185, 27500, 12849, 13440, 13034, 12984, 27481, 2316, 1749, 2172, 16097, 421, 177, 16871, 16712, 4727, 21617, 20773, 4913, 21473, 21207, 21499, 11384, 10429, 12662, 12067, 12357, 11854, 12556, 4136, 8127, 7105, 5698, 9184, 19877, 20446, 15971, 15556, 14570, 14533, 24632, 24522, 24663, 25170, 3364, 3097, 3572, 3103, 3666, 21861, 21969, 25422, 25476, 25445, 25627, 25658, 25488, 26276, 26126, 26236, 23894, 8581, 8799, 18427, 18734, 18178, 2992, 2818, 2959, 18726, 28624, 13603, 28626, 13805, 13817, 19743, 19707, 885, 18903, 6395, 23277, 6735, 6690, 6367, 9957, 26652, 26518, 9870, 10086, 27305, 10110, 27772, 13160, 28153, 27832, 13214, 13185, 17718, 17738, 16421, 16257, 17061, 21168, 21304, 4885, 12524, 12068, 11666, 7318, 7960, 7515, 5625, 20509, 20526, 19849, 15610, 15172, 24628, 24855, 25177, 24767, 22223, 22526, 25580, 25938, 26044, 24110, 23710, 2785, 18254, 18248, 28310, 28620, 28539, 28665, 29003, 19323, 19411, 1063, 19357, 1291, 22721, 23222, 22872, 23569, 23368, 23381, 26504, 26958, 26890, 26943, 9753, 10031, 26710, 12733, 27533, 27570, 28276, 12724, 13455, 27604, 27699, 17120, 2025, 1636, 2372, 17483, 17286, 16470, 20817, 20867, 20570, 12305, 11018, 6097, 8848, 8961, 20497, 15575, 15645, 21828, 22215, 21853, 22491, 25765, 25694, 8754, 18373, 18358, 13990, 13812, 28987, 28339, 29064, 19216, 19571, 950, 927, 19162, 1510, 19722, 13433, 27515, 1821, 17895, 16126, 531, 357, 17, 334, 20862, 5037, 10860, 11556, 4159, 6081, 5498, 9248, 20517, 20065, 20406, 15403, 15226, 24726, 24990, 25524, 24121, 18741, 28847, 19352, 22790, 23188, 6445, 23362, 23530, 27191, 27575, 28254, 27882, 28118, 17666, 170, 16040, 10360, 10648, 12005, 11990, 5650, 5449, 20255, 15632, 24483, 25208, 3185, 3186, 25615, 8685, 18250, 18474, 22799, 28204, 13107, 17923, 17456, 17132, 272, 4309, 21463, 12285, 10604, 11093, 5305, 15456, 24530, 25086, 25347, 25411, 25554, 23642, 18116, 2667, 19182, 23393, 27250, 28261, 27655, 17111, 17827, 17809, 16598, 16558, 4398, 11011, 20004, 15176, 23707, 8306, 18174, 18515, 18331, 28773, 19789, 26808, 26575, 27354, 17355, 17201, 17195, 20980, 4299, 21111, 4286, 19809, 22232, 23650, 19463, 12726, 16697, 15996, 3382, 26308, 18404, 2899, 23528, 17678, 4668, 10467, 22149, 28807, 28521, 26218, 16321, 4995, 17186, 22117, 25681, 24404, 11732, 21708, 15474, 15067, 13415, 12944, 313, 12132, 7806, 9487, 15387, 3997, 2615, 3082, 1873, 11328, 6257, 5120, 15781, 14218, 784, 1213, 9789, 26823, 12899, 2200, 2147, 1750, 225, 300, 5041, 12293, 11401, 12156, 11832, 7345, 7951, 7578, 5821, 5447, 15987, 15954, 14439, 15212, 3535, 3555, 8648, 8394, 2830, 2423, 13954, 14300, 1118, 1500, 800, 1403, 6596, 10251, 12910, 1954, 2046, 2037, 4606, 12259, 10882, 11541, 10953, 10783, 10433, 11945, 11374, 4183, 7388, 7882, 7804, 7999, 5917, 6226, 5792, 5764, 5629, 5602, 20394, 15862, 15607, 3630, 3888, 8500, 8260, 8720, 2977, 18081, 13752, 13974, 13837, 13608, 14286, 1211, 847, 936, 1352, 1446, 19098, 6657, 7017, 9788, 10014, 10314, 9841, 9546, 27984, 13003, 13551, 13509, 1585, 1710, 1780, 16361, 16872, 4699, 21024, 4394, 4877, 11676, 10881, 11166, 10545, 11735, 11156, 11933, 10992, 12239, 11380, 8188, 7248, 7181, 7446, 7416, 7328, 7995, 7998, 5171, 5332, 5526, 15368, 15947, 15644, 14978, 15146, 14483, 4035, 3143, 22468, 22112, 8532, 8640, 8527, 2589, 2644, 14209, 13741, 13783, 14004, 13830, 13868, 14013, 14094, 19134, 880, 1300, 867, 6350, 6379, 6291, 23471, 6421, 9656, 27046, 10339, 10055, 10013, 9771, 9901, 12904, 2174, 2184, 1731, 2381, 555, 484, 650, 661, 766, 20668, 4921, 21065, 20888, 20877, 12492, 12424, 12642, 10599, 4158, 4117, 8172, 7109, 7364, 7490, 7911, 7788, 7832, 7629, 7548, 7497, 5487, 5199, 5474, 9415, 8954, 9481, 15234, 15374, 15969, 15595, 14741, 14983, 14623, 15151, 14564, 14387, 24924, 24802, 25025, 3938, 3538, 3258, 3517, 3257, 4023, 3155, 3497, 3838, 3391, 3213, 25529, 23683, 8372, 8800, 18403, 2789, 18744, 2474, 2699, 2543, 14041, 14270, 13921, 14242, 13605, 14160, 992, 1386, 23332, 6464, 6842, 6812, 23187, 23189, 6714, 6583, 6304, 7092, 6732, 26593, 9605, 10028, 9609, 10155, 27750, 12721, 1946, 2113, 17495, 1994, 2344, 1959, 2110, 512, 331, 772, 657, 4496, 4689, 4947, 21115, 10775, 10805, 11228, 11094, 11709, 11504, 12672, 12029, 11432, 12673, 10728, 12148, 11867, 8237, 8075, 7337, 7954, 7758, 7939, 6211, 6056, 5934, 6008, 6172, 5551, 5591, 5568, 5264, 9405, 8898, 8987, 8994, 9449, 9307, 9314, 9060, 20427, 15511, 15267, 15349, 15598, 15819, 15286, 14683, 14526, 14509, 14951, 14608, 24607, 3459, 3273, 3202, 3393, 3373, 3385, 3841, 3133, 21740, 22608, 22365, 22007, 25463, 25449, 25986, 8845, 8680, 24411, 23871, 8750, 8657, 8649, 2456, 2681, 2719, 18739, 2762, 2990, 14267, 13945, 13896, 13865, 28347, 28697, 13702, 13704, 1031, 1168, 1322, 19254, 1183, 1175, 955, 1454, 6362, 6840, 6664, 6415, 6593, 6526, 6910, 6653, 6886, 10198, 9569, 10064, 9668, 9612, 9933, 9895, 28111, 13014, 13322, 12797, 12957, 13368, 13067, 13191, 17893, 2199, 1634, 2151, 2351, 17783, 106, 227, 15997, 235, 730, 660, 454, 727, 16917, 378, 16385, 503, 4413, 20927, 4420, 4378, 4357, 4452, 11596, 11498, 11163, 12073, 12626, 11871, 11943, 11903, 10682, 12227, 10350, 12687, 11613, 12089, 11675, 4212, 8162, 8111, 7305, 7121, 7404, 7267, 7906, 7899, 7876, 7537, 7835, 7819, 7949, 6063, 5716, 5858, 6136, 5979, 5996, 5272, 5115, 5129, 5608, 5664, 9349, 9161, 9320, 9384, 20124, 15725, 15258, 15545, 15777, 15541, 15670, 15425, 15897, 15262, 15389, 15065, 15054, 14632, 14440, 15045, 14626, 14840, 15177, 14414, 14657, 15053, 15195, 14597, 25266, 24697, 24859, 24630, 24961, 3772, 3426, 3561, 3292, 3974, 21695, 22018, 21867, 22479, 22096, 21987, 25418, 8572, 8795, 23930, 23925, 8380, 18285, 2600, 2922, 2834, 2508, 2496, 2750, 2810, 2550, 14177, 13845, 13757, 13746, 13730, 28787, 13597, 28487, 13685, 14066, 14212, 14126, 13625, 14180, 14017, 14315, 13613, 19690, 962, 19291, 1029, 1139, 834, 19475, 846, 6908, 6375, 7050, 6692, 23152, 6710, 6917, 7060, 26696, 9700, 27051, 9860, 10230, 10150, 27271, 9768, 10182, 9650, 9606, 9765, 10322, 12894, 27966, 12921, 27997, 13267, 13157, 12941, 13310, 13199, 13189, 27878, 28051, 12810, 2305, 1967, 2336, 1902, 1915, 2268, 2366, 17501, 1562, 1626, 413, 320, 565, 182, 61, 672, 16004, 238, 16702, 16496, 518, 448, 96, 370, 205, 697, 5082, 4466, 4657, 4457, 5093, 4839, 4861, 4950, 4400, 4775, 12503, 10754, 12416, 10505, 11451, 12055, 12151, 11310, 11551, 11168, 11386, 12136, 11029, 11326, 10595, 12210, 11996, 10702, 11586, 11997, 4112, 4205, 8244, 7202, 7253, 7809, 7747, 7502, 7930, 6258, 6196, 5718, 5988, 6086, 5860, 5184, 5298, 5693, 5190, 5659, 5657, 5598, 5167, 5261, 5661, 9402, 9194, 9371, 9162, 9334, 19963, 20055, 19858, 15696, 15597, 15793, 15519, 15879, 15544, 15237, 15762, 15460, 15786, 15667, 15859, 14622, 14640, 14512, 14835, 14947, 14644, 14948, 14861, 15128, 14989, 24868, 24853, 24797, 24567, 24532, 3421, 3112, 3592, 3664, 3427, 3802, 3839, 3894, 22399, 22540, 22321, 22089, 22494, 25387, 25491, 26153, 26073, 8812, 8823, 8768, 8713, 8483, 8737, 8784, 24281, 24089, 2908, 18477, 2617, 2903, 2434, 2610, 2943, 2888, 2912, 18546, 2525, 18236, 18695, 2935, 2536, 13917, 13843, 14277, 14274, 13795, 14030, 13859, 1442, 1083, 19054, 1140, 924, 1414, 1366, 1225, 1005, 1087, 19683, 19276, 19600, 19771, 921, 799, 1126, 1382, 1450, 844, 895, 958, 6499, 23574, 22995, 22712, 6608, 6715, 23582, 6866, 6993, 6853, 27368, 26651, 9701, 27016, 26873, 9964, 9842, 9736, 9812, 10167, 9955, 10203, 26937, 26697, 27472, 27471, 12725, 12753, 13070, 27611, 27968, 28221, 12793, 12943, 13069, 13291, 13366, 12992, 13507, 12717, 27838, 1539, 1615, 2300, 1725, 1962, 2377, 1526, 1662, 2071, 1733, 1663, 2207, 2295, 1768, 18010, 662, 704, 16014, 361, 16588, 16082, 381, 1, 16413, 16587, 21592, 20581, 4735, 4423, 4545, 20686, 4396, 4233, 4623, 4983, 10974, 10741, 12425, 11597, 11656, 11284, 12366, 12367, 11643, 12482, 12636, 12549, 12562, 10501, 12200, 11851, 12617, 11327, 11151, 10368, 11375, 11122, 11194, 12457, 12123, 12557, 10918, 11114, 12166, 12161, 8171, 8083, 8190, 8239, 8146, 7282, 7348, 7239, 7704, 7588, 7741, 7863, 7652, 7570, 5966, 5763, 5998, 5919, 5172, 5126, 5158, 5512, 5174, 5255, 5268, 5366, 5412, 5574, 9071, 9381, 9115, 9446, 9496, 9468, 9382, 8985, 9341, 9431, 9472, 9422, 8963, 9262, 9238, 9476, 20198, 20400, 20220, 20301, 19797, 15832, 15249, 15653, 15502, 15736, 15697, 15759, 15880, 15933, 15376, 15573, 15805, 15483, 15518, 15613, 15948, 14996, 14818, 15014, 14525, 14468, 14832, 14781, 15103, 14518, 14390, 14604, 14629, 14593, 14353, 25164, 24824, 3665, 3781, 3296, 3125, 3315, 3634, 3244, 3275, 3784, 3135, 22421, 21725, 22676, 22544, 21657, 21819, 22565, 22390, 22680, 25572, 25471, 25791, 8615, 23723, 8712, 24304, 24220, 23768, 23755, 24000, 8516, 8731, 8582, 8476, 8518, 8461, 24278, 24184, 23716, 18055, 2523, 2604, 2563, 2784, 2637, 2886, 2530, 2438, 18551, 28565, 14002, 14337, 14245, 28833, 14001, 13666, 14297, 14301, 14266, 14074, 13631, 14215, 14287, 19795, 783, 859, 1250, 1040, 1511, 821, 1081, 1115, 18844, 1417, 19410, 806, 1474, 1272, 19773, 1101, 6580, 6924, 22700, 22847, 6644, 6865, 22846, 6531, 6543, 6856, 6572, 23512, 23115, 9987, 10261, 9801, 9867, 10273, 10323, 9686, 10009, 9967, 10044, 9958, 27719, 13512, 13396, 27612, 28226, 12787, 27863, 12990, 12842, 12789, 13251, 12879, 27558, 17820, 17119, 2093, 2406, 1668, 1791, 2149, 2105, 1528, 1673, 2302, 1799, 16842, 258, 16678, 550, 16507, 494, 474, 16392, 75, 347, 152, 112, 298, 243, 16820, 526, 305, 773, 4652, 4296, 21650, 20905, 20960, 20962, 4272, 5083, 4774, 4335, 21521, 21559, 4495, 4557, 4918, 4216, 4760, 4385, 10732, 10445, 11736, 11102, 10952, 12332, 10939, 10986, 11013, 11552, 12621, 11476, 10875, 11775, 11694, 12115, 12339, 10345, 12231, 10573, 11369, 11840, 11838, 4179, 7204, 7184, 7119, 7247, 7743, 7877, 8005, 7864, 7541, 7739, 7534, 7496, 7714, 7786, 7589, 7967, 7779, 7813, 7818, 7793, 7781, 6171, 5908, 6235, 5712, 6143, 5822, 6009, 5753, 6060, 6210, 5501, 5096, 5267, 5251, 5533, 5463, 5540, 9072, 8868, 9291, 9366, 8919, 9128, 9246, 9453, 9301, 9007, 20527, 20568, 20033, 20524, 20227, 19993, 15968, 15654, 15857, 15616, 15869, 15815, 15353, 15737, 15313, 15429, 15448, 15470, 15878, 14521, 14678, 14809, 15129, 14961, 15186, 14660, 14807, 15113, 14598, 15170, 14658, 14635, 24460, 25017, 24932, 24727, 24699, 24929, 24674, 24875, 24846, 4048, 3406, 3501, 3137, 3191, 3138, 22647, 22055, 22309, 21906, 22338, 21706, 21882, 22489, 22516, 21918, 26067, 25891, 26255, 26331, 25737, 25720, 26435, 26184, 24328, 23891, 8294, 24389, 24232, 24197, 24223, 8561, 8484, 8580, 8286, 8837, 8585, 18748, 18166, 18505, 18068, 2817, 3095, 3042, 2690, 2515, 18737, 2823, 18240, 18624, 18435, 18067, 18783, 2742, 2557, 18714, 2904, 2976, 2972, 28331, 28642, 28561, 14292, 13834, 14065, 13672, 14237, 13686, 13767, 28700, 29012, 28531, 14208, 14213, 13866, 13922, 14174, 14011, 14158, 19450, 1321, 966, 968, 1449, 923, 802, 19377, 1488, 1305, 1058, 865, 1170, 810, 1023, 23156, 22836, 22804, 6408, 6368, 6897, 22803, 6615, 6724, 6673, 6970, 6817, 6834, 23002, 6643, 6780, 23520, 26582, 9558, 10160, 27018, 26488, 10177, 9716, 9652, 9862, 9825, 9865, 27029, 26853, 9708, 9622, 10100, 10156, 10000, 27669, 27717, 27591, 13001, 12962, 13547, 12858, 13195, 13158, 13063, 13201, 13342, 13002, 13300, 13501, 17481, 2237, 1657, 2080, 1894, 17410, 17793, 17615, 1618, 2394, 2327, 1963, 2068, 16695, 16249, 439, 194, 500, 16517, 16594, 340, 215, 16506, 16646, 90, 158, 16690, 4558, 21621, 4362, 4685, 4936, 4337, 4739, 4250, 4375, 4804, 5029, 4840, 4756, 21641, 11039, 10777, 12327, 11080, 12312, 10838, 10713, 10464, 10597, 10981, 11876, 11225, 10346, 11534, 11801, 12093, 12521, 11442, 10978, 11868, 12069, 10613, 10970, 11234, 12091, 12196, 12324, 10414, 11127, 12037, 12078, 8053, 8032, 8061, 4063, 4053, 4129, 4201, 8165, 8168, 7424, 7281, 7308, 7418, 7127, 7268, 7164, 7288, 7189, 7166, 7895, 7871, 7667, 7559, 7710, 7985, 7867, 7798, 8021, 5736, 5814, 6251, 5976, 6038, 5941, 6030, 5973, 5495, 5334, 5589, 5666, 5175, 5238, 5247, 5500, 5669, 5313]\n"
          ]
        }
      ]
    },
    {
      "cell_type": "markdown",
      "source": [
        "# Examination of User's Data\n",
        "<a id='Analysis_Average_Case_Duration_by_Neighborhood'></a>\n",
        "\n",
        "---\n",
        "-A brief categorigcal analysis on the total number of users, their gender, age, and country <br>\n",
        "-Creation of dataframes and columns that will be used in more in depth analysis <br>\n",
        "-Deeper analysis on users patterns with purchases, returns, and number of orders in raltionship to their categorical data <br> "
      ],
      "metadata": {
        "id": "MBw6xyLfN9pn"
      }
    },
    {
      "cell_type": "code",
      "source": [
        "print(\"The total number of users:\",users['id'].count())"
      ],
      "metadata": {
        "colab": {
          "base_uri": "https://localhost:8080/"
        },
        "id": "-60vxy4oYJFW",
        "outputId": "1862e87e-a08d-4cff-f0f8-f58918070839"
      },
      "execution_count": 80,
      "outputs": [
        {
          "output_type": "stream",
          "name": "stdout",
          "text": [
            "The total number of users: 100000\n"
          ]
        }
      ]
    },
    {
      "cell_type": "code",
      "source": [
        "users_gender = pd.DataFrame(users.groupby(['gender'])['id'].count())\n",
        "users_gender"
      ],
      "metadata": {
        "colab": {
          "base_uri": "https://localhost:8080/",
          "height": 143
        },
        "id": "p1uhXQ_yWkve",
        "outputId": "f00cb9cb-96e3-4c45-f376-6c32b112a333"
      },
      "execution_count": 81,
      "outputs": [
        {
          "output_type": "execute_result",
          "data": {
            "text/plain": [
              "           id\n",
              "gender       \n",
              "F       50051\n",
              "M       49949"
            ],
            "text/html": [
              "\n",
              "  <div id=\"df-b99208bf-df96-413d-909a-1fbd9943ec7e\">\n",
              "    <div class=\"colab-df-container\">\n",
              "      <div>\n",
              "<style scoped>\n",
              "    .dataframe tbody tr th:only-of-type {\n",
              "        vertical-align: middle;\n",
              "    }\n",
              "\n",
              "    .dataframe tbody tr th {\n",
              "        vertical-align: top;\n",
              "    }\n",
              "\n",
              "    .dataframe thead th {\n",
              "        text-align: right;\n",
              "    }\n",
              "</style>\n",
              "<table border=\"1\" class=\"dataframe\">\n",
              "  <thead>\n",
              "    <tr style=\"text-align: right;\">\n",
              "      <th></th>\n",
              "      <th>id</th>\n",
              "    </tr>\n",
              "    <tr>\n",
              "      <th>gender</th>\n",
              "      <th></th>\n",
              "    </tr>\n",
              "  </thead>\n",
              "  <tbody>\n",
              "    <tr>\n",
              "      <th>F</th>\n",
              "      <td>50051</td>\n",
              "    </tr>\n",
              "    <tr>\n",
              "      <th>M</th>\n",
              "      <td>49949</td>\n",
              "    </tr>\n",
              "  </tbody>\n",
              "</table>\n",
              "</div>\n",
              "      <button class=\"colab-df-convert\" onclick=\"convertToInteractive('df-b99208bf-df96-413d-909a-1fbd9943ec7e')\"\n",
              "              title=\"Convert this dataframe to an interactive table.\"\n",
              "              style=\"display:none;\">\n",
              "        \n",
              "  <svg xmlns=\"http://www.w3.org/2000/svg\" height=\"24px\"viewBox=\"0 0 24 24\"\n",
              "       width=\"24px\">\n",
              "    <path d=\"M0 0h24v24H0V0z\" fill=\"none\"/>\n",
              "    <path d=\"M18.56 5.44l.94 2.06.94-2.06 2.06-.94-2.06-.94-.94-2.06-.94 2.06-2.06.94zm-11 1L8.5 8.5l.94-2.06 2.06-.94-2.06-.94L8.5 2.5l-.94 2.06-2.06.94zm10 10l.94 2.06.94-2.06 2.06-.94-2.06-.94-.94-2.06-.94 2.06-2.06.94z\"/><path d=\"M17.41 7.96l-1.37-1.37c-.4-.4-.92-.59-1.43-.59-.52 0-1.04.2-1.43.59L10.3 9.45l-7.72 7.72c-.78.78-.78 2.05 0 2.83L4 21.41c.39.39.9.59 1.41.59.51 0 1.02-.2 1.41-.59l7.78-7.78 2.81-2.81c.8-.78.8-2.07 0-2.86zM5.41 20L4 18.59l7.72-7.72 1.47 1.35L5.41 20z\"/>\n",
              "  </svg>\n",
              "      </button>\n",
              "      \n",
              "  <style>\n",
              "    .colab-df-container {\n",
              "      display:flex;\n",
              "      flex-wrap:wrap;\n",
              "      gap: 12px;\n",
              "    }\n",
              "\n",
              "    .colab-df-convert {\n",
              "      background-color: #E8F0FE;\n",
              "      border: none;\n",
              "      border-radius: 50%;\n",
              "      cursor: pointer;\n",
              "      display: none;\n",
              "      fill: #1967D2;\n",
              "      height: 32px;\n",
              "      padding: 0 0 0 0;\n",
              "      width: 32px;\n",
              "    }\n",
              "\n",
              "    .colab-df-convert:hover {\n",
              "      background-color: #E2EBFA;\n",
              "      box-shadow: 0px 1px 2px rgba(60, 64, 67, 0.3), 0px 1px 3px 1px rgba(60, 64, 67, 0.15);\n",
              "      fill: #174EA6;\n",
              "    }\n",
              "\n",
              "    [theme=dark] .colab-df-convert {\n",
              "      background-color: #3B4455;\n",
              "      fill: #D2E3FC;\n",
              "    }\n",
              "\n",
              "    [theme=dark] .colab-df-convert:hover {\n",
              "      background-color: #434B5C;\n",
              "      box-shadow: 0px 1px 3px 1px rgba(0, 0, 0, 0.15);\n",
              "      filter: drop-shadow(0px 1px 2px rgba(0, 0, 0, 0.3));\n",
              "      fill: #FFFFFF;\n",
              "    }\n",
              "  </style>\n",
              "\n",
              "      <script>\n",
              "        const buttonEl =\n",
              "          document.querySelector('#df-b99208bf-df96-413d-909a-1fbd9943ec7e button.colab-df-convert');\n",
              "        buttonEl.style.display =\n",
              "          google.colab.kernel.accessAllowed ? 'block' : 'none';\n",
              "\n",
              "        async function convertToInteractive(key) {\n",
              "          const element = document.querySelector('#df-b99208bf-df96-413d-909a-1fbd9943ec7e');\n",
              "          const dataTable =\n",
              "            await google.colab.kernel.invokeFunction('convertToInteractive',\n",
              "                                                     [key], {});\n",
              "          if (!dataTable) return;\n",
              "\n",
              "          const docLinkHtml = 'Like what you see? Visit the ' +\n",
              "            '<a target=\"_blank\" href=https://colab.research.google.com/notebooks/data_table.ipynb>data table notebook</a>'\n",
              "            + ' to learn more about interactive tables.';\n",
              "          element.innerHTML = '';\n",
              "          dataTable['output_type'] = 'display_data';\n",
              "          await google.colab.output.renderOutput(dataTable, element);\n",
              "          const docLink = document.createElement('div');\n",
              "          docLink.innerHTML = docLinkHtml;\n",
              "          element.appendChild(docLink);\n",
              "        }\n",
              "      </script>\n",
              "    </div>\n",
              "  </div>\n",
              "  "
            ]
          },
          "metadata": {},
          "execution_count": 81
        }
      ]
    },
    {
      "cell_type": "markdown",
      "source": [
        "##### There are fairly even numbers of male and female identifying users"
      ],
      "metadata": {
        "id": "thzwp4gW-Rqs"
      }
    },
    {
      "cell_type": "code",
      "source": [
        "users_age = pd.DataFrame(users.groupby(['age'])['id'].count())\n",
        "users_age.plot(kind=\"bar\",stacked=True)"
      ],
      "metadata": {
        "colab": {
          "base_uri": "https://localhost:8080/",
          "height": 470
        },
        "id": "yW3aiqtMWkzT",
        "outputId": "516a1c72-8335-4e54-e81e-9a49c47a7415"
      },
      "execution_count": 82,
      "outputs": [
        {
          "output_type": "execute_result",
          "data": {
            "text/plain": [
              "<Axes: xlabel='age'>"
            ]
          },
          "metadata": {},
          "execution_count": 82
        },
        {
          "output_type": "display_data",
          "data": {
            "text/plain": [
              "<Figure size 640x480 with 1 Axes>"
            ],
            "image/png": "[encoded data removed]"
          },
          "metadata": {}
        }
      ]
    },
    {
      "cell_type": "markdown",
      "source": [
        "##### The age of customers is spread between 12 and 70 with fairly even amounts of each age"
      ],
      "metadata": {
        "id": "H-NIWZqq-Zr0"
      }
    },
    {
      "cell_type": "code",
      "source": [
        "users_by_country = pd.DataFrame(users.groupby(['country'])['id'].count())\n",
        "users_by_country.plot(kind=\"bar\",stacked=True)"
      ],
      "metadata": {
        "colab": {
          "base_uri": "https://localhost:8080/",
          "height": 564
        },
        "id": "A5yCf07TWk4e",
        "outputId": "749b90e5-ba26-49fc-a1f7-82da211d6458"
      },
      "execution_count": 83,
      "outputs": [
        {
          "output_type": "execute_result",
          "data": {
            "text/plain": [
              "<Axes: xlabel='country'>"
            ]
          },
          "metadata": {},
          "execution_count": 83
        },
        {
          "output_type": "display_data",
          "data": {
            "text/plain": [
              "<Figure size 640x480 with 1 Axes>"
            ],
            "image/png": "[encoded data removed]"
          },
          "metadata": {}
        }
      ]
    },
    {
      "cell_type": "markdown",
      "source": [
        "##### The countries with the largest number of users are China, United States, and Brazil. The countries with the smallest number of users are Poland, Columbia, and Austria."
      ],
      "metadata": {
        "id": "MwOIVfqs-kl9"
      }
    },
    {
      "cell_type": "markdown",
      "source": [
        "##### Create a dataframe that is based on users purchases(orders) and the users table, this will be accomplished through a merge. "
      ],
      "metadata": {
        "id": "NVRUsE_M-1gJ"
      }
    },
    {
      "cell_type": "code",
      "source": [
        "orders_col_rename = orders.rename(columns={'user_id':'id'})"
      ],
      "metadata": {
        "id": "0wy76GnloeiI"
      },
      "execution_count": 84,
      "outputs": []
    },
    {
      "cell_type": "code",
      "source": [
        "number_of_order_by_user = pd.DataFrame(orders.groupby(['user_id'])['order_id'].count())"
      ],
      "metadata": {
        "id": "Xrglpy2NYqyz"
      },
      "execution_count": 85,
      "outputs": []
    },
    {
      "cell_type": "code",
      "source": [
        "join_orders_users = pd.merge(users,orders_col_rename, on=[\"id\"],how=\"outer\")\n",
        "join_orders_users_1 = pd.DataFrame(join_orders_users[['id','age','gender_x','country','order_id','returned_at','num_of_item']])"
      ],
      "metadata": {
        "id": "X4gDJr_BYq5b"
      },
      "execution_count": 86,
      "outputs": []
    },
    {
      "cell_type": "markdown",
      "source": [
        "##### Define and apply a function that will return a numerical value based on if an order was returned or not. Add a column that can be used to count the numer of orders that each customer has placed."
      ],
      "metadata": {
        "id": "USQDEJ9Q_RGO"
      }
    },
    {
      "cell_type": "code",
      "source": [
        "def return_numerical(return_val):\n",
        "  val = pd.isnull(return_val)\n",
        "  if val == True:\n",
        "    return 0\n",
        "  else:\n",
        "    return 1\n",
        "\n",
        "\n",
        "join_orders_users_1['return_numerical_value']=join_orders_users_1.apply(lambda x : return_numerical(x['returned_at']) , axis=1)\n",
        "\n",
        "join_orders_users_1['order_val_for_counting']=1"
      ],
      "metadata": {
        "id": "aaZMu-m0Yq-w"
      },
      "execution_count": 87,
      "outputs": []
    },
    {
      "cell_type": "markdown",
      "source": [
        "##### Create a dataframe that groups by the users id, age, gender, and country. The columns for the number of items purchased, the number of returns made, and the number of orders will be summed to find the total values of each column per user."
      ],
      "metadata": {
        "id": "RJLV85Xh_23H"
      }
    },
    {
      "cell_type": "code",
      "source": [
        "order_users_agg_1 = join_orders_users_1.groupby(['id','age','gender_x','country'])['num_of_item','return_numerical_value','order_val_for_counting'].sum()"
      ],
      "metadata": {
        "id": "v0PvueFurSoG",
        "colab": {
          "base_uri": "https://localhost:8080/"
        },
        "outputId": "bc3665f5-444e-4002-a4c1-707e744c5c96"
      },
      "execution_count": 88,
      "outputs": [
        {
          "output_type": "stream",
          "name": "stderr",
          "text": [
            "<ipython-input-88-be4dc9582c27>:1: FutureWarning: Indexing with multiple keys (implicitly converted to a tuple of keys) will be deprecated, use a list instead.\n",
            "  order_users_agg_1 = join_orders_users_1.groupby(['id','age','gender_x','country'])['num_of_item','return_numerical_value','order_val_for_counting'].sum()\n"
          ]
        }
      ]
    },
    {
      "cell_type": "markdown",
      "source": [
        "##### Analysis of the dataframe"
      ],
      "metadata": {
        "id": "-Z9j8Y7mARZC"
      }
    },
    {
      "cell_type": "code",
      "source": [
        "agg_gender_item_mean = order_users_agg_1.groupby(['gender_x'])['num_of_item'].mean()\n",
        "agg_gender_item_mean"
      ],
      "metadata": {
        "colab": {
          "base_uri": "https://localhost:8080/"
        },
        "id": "5k9m2XZYrSxC",
        "outputId": "7e49c44e-7f55-439d-f4d9-7c0b177f6db8"
      },
      "execution_count": 89,
      "outputs": [
        {
          "output_type": "execute_result",
          "data": {
            "text/plain": [
              "gender_x\n",
              "F      1.8235\n",
              "M    1.802378\n",
              "Name: num_of_item, dtype: Float64"
            ]
          },
          "metadata": {},
          "execution_count": 89
        }
      ]
    },
    {
      "cell_type": "code",
      "source": [
        "agg_age_gender_item_mean = order_users_agg_1.groupby(['age','gender_x'])['num_of_item'].mean().unstack()\n",
        "agg_age_gender_item_mean.plot(kind=\"bar\",stacked=True)"
      ],
      "metadata": {
        "colab": {
          "base_uri": "https://localhost:8080/",
          "height": 470
        },
        "id": "kzlOxLDo5lSa",
        "outputId": "3893b276-6ec1-4a5d-bf54-74c6916cb04c"
      },
      "execution_count": null,
      "outputs": [
        {
          "output_type": "execute_result",
          "data": {
            "text/plain": [
              "<Axes: xlabel='age'>"
            ]
          },
          "metadata": {},
          "execution_count": 65
        },
        {
          "output_type": "display_data",
          "data": {
            "text/plain": [
              "<Figure size 640x480 with 1 Axes>"
            ],
            "image/png": "[encoded data removed]"
          },
          "metadata": {}
        }
      ]
    },
    {
      "cell_type": "code",
      "source": [
        "agg_country_item_mean = order_users_agg_1.groupby(['country'])['num_of_item'].mean()\n",
        "agg_country_item_mean"
      ],
      "metadata": {
        "colab": {
          "base_uri": "https://localhost:8080/"
        },
        "id": "5GEnlPeA6c3A",
        "outputId": "10a52119-8d0a-4991-ad26-fba4c27b1312"
      },
      "execution_count": null,
      "outputs": [
        {
          "output_type": "execute_result",
          "data": {
            "text/plain": [
              "country\n",
              "Australia         1.770009\n",
              "Austria                3.0\n",
              "Belgium            1.78703\n",
              "Brasil            1.810412\n",
              "China             1.806561\n",
              "Colombia          1.555556\n",
              "Deutschland            2.5\n",
              "España                 1.0\n",
              "France            1.835605\n",
              "Germany           1.807804\n",
              "Japan             1.816598\n",
              "Poland            1.840816\n",
              "South Korea       1.822172\n",
              "Spain             1.778603\n",
              "United Kingdom    1.810671\n",
              "United States     1.789785\n",
              "Name: num_of_item, dtype: Float64"
            ]
          },
          "metadata": {},
          "execution_count": 66
        }
      ]
    },
    {
      "cell_type": "markdown",
      "source": [
        "##### The number of total items purchased does not vary greatly based on the age, gender, or country of the user. Austria has a high number of items purchased, likely due to the small amount of users in this country. Spain has a low number of items purchased, likely due to the same reason."
      ],
      "metadata": {
        "id": "PejV-PYRAiFf"
      }
    },
    {
      "cell_type": "code",
      "source": [
        "agg_gender_item_mean = order_users_agg_1.groupby(['gender_x'])['return_numerical_value'].mean()\n",
        "agg_gender_item_mean"
      ],
      "metadata": {
        "colab": {
          "base_uri": "https://localhost:8080/"
        },
        "id": "iAMn1GDx50-v",
        "outputId": "f2cacfff-8bf9-4148-c930-241535743ca5"
      },
      "execution_count": 91,
      "outputs": [
        {
          "output_type": "execute_result",
          "data": {
            "text/plain": [
              "gender_x\n",
              "F    0.125852\n",
              "M    0.122365\n",
              "Name: return_numerical_value, dtype: float64"
            ]
          },
          "metadata": {},
          "execution_count": 91
        }
      ]
    },
    {
      "cell_type": "code",
      "source": [
        "agg_age_gender_item_mean = order_users_agg_1.groupby(['age','gender_x'])['return_numerical_value'].mean().unstack()\n",
        "agg_age_gender_item_mean.plot(kind=\"bar\",stacked=True)"
      ],
      "metadata": {
        "colab": {
          "base_uri": "https://localhost:8080/",
          "height": 470
        },
        "id": "e4tU9Dqg51Qj",
        "outputId": "bf0b09ac-3d7f-43fa-aee4-3fe277e44ef3"
      },
      "execution_count": 93,
      "outputs": [
        {
          "output_type": "execute_result",
          "data": {
            "text/plain": [
              "<Axes: xlabel='age'>"
            ]
          },
          "metadata": {},
          "execution_count": 93
        },
        {
          "output_type": "display_data",
          "data": {
            "text/plain": [
              "<Figure size 640x480 with 1 Axes>"
            ],
            "image/png": "[encoded data removed]"
          },
          "metadata": {}
        }
      ]
    },
    {
      "cell_type": "code",
      "source": [
        "agg_country_item_mean = order_users_agg_1.groupby(['country'])['return_numerical_value'].mean()\n",
        "agg_country_item_mean"
      ],
      "metadata": {
        "colab": {
          "base_uri": "https://localhost:8080/"
        },
        "id": "lhttnKYX7JNX",
        "outputId": "cf89795c-2b89-40fc-f819-9a7e1d1c4b6b"
      },
      "execution_count": 94,
      "outputs": [
        {
          "output_type": "execute_result",
          "data": {
            "text/plain": [
              "country\n",
              "Australia         0.123580\n",
              "Austria           0.000000\n",
              "Belgium           0.141494\n",
              "Brasil            0.125600\n",
              "China             0.123387\n",
              "Colombia          0.000000\n",
              "France            0.122367\n",
              "Germany           0.119286\n",
              "Japan             0.127642\n",
              "Poland            0.104803\n",
              "South Korea       0.129385\n",
              "Spain             0.108630\n",
              "United Kingdom    0.126444\n",
              "United States     0.125510\n",
              "Name: return_numerical_value, dtype: float64"
            ]
          },
          "metadata": {},
          "execution_count": 94
        }
      ]
    },
    {
      "cell_type": "markdown",
      "source": [
        "##### The number of returns a user makes is not greatly influenced by their age, gender, or country."
      ],
      "metadata": {
        "id": "cttfFk78BDZ_"
      }
    },
    {
      "cell_type": "code",
      "source": [
        "agg_gender_item_mean = order_users_agg_1.groupby(['gender_x'])['order_val_for_counting'].mean()\n",
        "agg_gender_item_mean"
      ],
      "metadata": {
        "colab": {
          "base_uri": "https://localhost:8080/"
        },
        "id": "dx0QkDAl51VV",
        "outputId": "0e417c02-6369-4a9d-a655-c2c0ea9bab88"
      },
      "execution_count": 95,
      "outputs": [
        {
          "output_type": "execute_result",
          "data": {
            "text/plain": [
              "gender_x\n",
              "F    1.450041\n",
              "M    1.447096\n",
              "Name: order_val_for_counting, dtype: float64"
            ]
          },
          "metadata": {},
          "execution_count": 95
        }
      ]
    },
    {
      "cell_type": "code",
      "source": [
        "agg_age_gender_item_mean = order_users_agg_1.groupby(['age','gender_x'])['order_val_for_counting'].mean().unstack()\n",
        "agg_age_gender_item_mean.plot(kind=\"bar\",stacked=True)"
      ],
      "metadata": {
        "colab": {
          "base_uri": "https://localhost:8080/",
          "height": 470
        },
        "id": "ffIrQjSE51kT",
        "outputId": "f9994a1b-2389-4a5c-924e-d0479d4137c0"
      },
      "execution_count": 96,
      "outputs": [
        {
          "output_type": "execute_result",
          "data": {
            "text/plain": [
              "<Axes: xlabel='age'>"
            ]
          },
          "metadata": {},
          "execution_count": 96
        },
        {
          "output_type": "display_data",
          "data": {
            "text/plain": [
              "<Figure size 640x480 with 1 Axes>"
            ],
            "image/png": "[encoded data removed]"
          },
          "metadata": {}
        }
      ]
    },
    {
      "cell_type": "code",
      "source": [
        "agg_country_item_mean = order_users_agg_1.groupby(['country'])['order_val_for_counting'].mean()\n",
        "agg_country_item_mean"
      ],
      "metadata": {
        "colab": {
          "base_uri": "https://localhost:8080/"
        },
        "id": "n8rqnAdS6IZo",
        "outputId": "169bbb52-4746-4a5b-9594-7a91ee852db0"
      },
      "execution_count": 97,
      "outputs": [
        {
          "output_type": "execute_result",
          "data": {
            "text/plain": [
              "country\n",
              "Australia         1.447070\n",
              "Austria           1.200000\n",
              "Belgium           1.477742\n",
              "Brasil            1.450665\n",
              "China             1.446926\n",
              "Colombia          1.545455\n",
              "France            1.473673\n",
              "Germany           1.435952\n",
              "Japan             1.467468\n",
              "Poland            1.484716\n",
              "South Korea       1.456243\n",
              "Spain             1.447817\n",
              "United Kingdom    1.454763\n",
              "United States     1.439952\n",
              "Name: order_val_for_counting, dtype: float64"
            ]
          },
          "metadata": {},
          "execution_count": 97
        }
      ]
    },
    {
      "cell_type": "markdown",
      "source": [
        "#####The number of orders placed by a customer is also not greatly influenced by the users age, gender, or country. "
      ],
      "metadata": {
        "id": "NmX6XTwcBOSb"
      }
    },
    {
      "cell_type": "markdown",
      "source": [
        "#### Web Activity of Users"
      ],
      "metadata": {
        "id": "BkiHw0sHBclz"
      }
    },
    {
      "cell_type": "markdown",
      "source": [
        "##### Create a dataframe from SQL that will include the traffic source and the number of purchase, cart, and product events for each traffic source as well as the proportion of total events each event segment makes up."
      ],
      "metadata": {
        "id": "A7I-0n6XBxC0"
      }
    },
    {
      "cell_type": "code",
      "source": [
        "sql = '''\n",
        "SELECT\n",
        "  traffic_source,\n",
        "  SUM(CASE WHEN event_type = 'purchase' THEN 1 ELSE 0 END) num_purchase,\n",
        "  SUM(CASE WHEN event_type = 'cart' THEN 1 ELSE 0 END) num_cart,\n",
        "  SUM(CASE WHEN event_type = 'product' THEN 1 ELSE 0 END) num_product,\n",
        "  COUNT(*) all_events,\n",
        "  SUM(CASE WHEN event_type = 'purchase' THEN 1 ELSE 0 END)/COUNT(*) AS prop_purchase,\n",
        "  SUM(CASE WHEN event_type = 'cart' THEN 1 ELSE 0 END)/COUNT(*) AS prop_cart,\n",
        "  SUM(CASE WHEN event_type = 'product' THEN 1 ELSE 0 END)/COUNT(*) AS prop_product\n",
        "FROM\n",
        "  `bigquery-public-data.thelook_ecommerce.events`\n",
        "GROUP BY \n",
        "  traffic_source\n",
        "'''\n",
        "\n",
        "traffic_views = pd.io.gbq.read_gbq(sql,project_id=project_id)"
      ],
      "metadata": {
        "id": "29M0plsdzHa2"
      },
      "execution_count": 98,
      "outputs": []
    },
    {
      "cell_type": "code",
      "source": [
        "traffic_views"
      ],
      "metadata": {
        "colab": {
          "base_uri": "https://localhost:8080/",
          "height": 206
        },
        "id": "YLuflk0qNsX5",
        "outputId": "846e05e2-4c03-40cc-defc-3a0fa19ebc77"
      },
      "execution_count": 100,
      "outputs": [
        {
          "output_type": "execute_result",
          "data": {
            "text/plain": [
              "  traffic_source  num_purchase  num_cart  num_product  all_events  \\\n",
              "0        Adwords         54075    177793       252996      726471   \n",
              "1          Email         81902    268383       380609     1094731   \n",
              "2       Facebook         18127     59849        84570      243295   \n",
              "3        YouTube         18147     59330        84353      242433   \n",
              "4        Organic          9044     29740        42319      121487   \n",
              "\n",
              "   prop_purchase  prop_cart  prop_product  \n",
              "0       0.074435   0.244735      0.348253  \n",
              "1       0.074815   0.245159      0.347674  \n",
              "2       0.074506   0.245994      0.347603  \n",
              "3       0.074854   0.244727      0.347944  \n",
              "4       0.074444   0.244800      0.348342  "
            ],
            "text/html": [
              "\n",
              "  <div id=\"df-441c068e-9080-4d09-acce-ed333ac53640\">\n",
              "    <div class=\"colab-df-container\">\n",
              "      <div>\n",
              "<style scoped>\n",
              "    .dataframe tbody tr th:only-of-type {\n",
              "        vertical-align: middle;\n",
              "    }\n",
              "\n",
              "    .dataframe tbody tr th {\n",
              "        vertical-align: top;\n",
              "    }\n",
              "\n",
              "    .dataframe thead th {\n",
              "        text-align: right;\n",
              "    }\n",
              "</style>\n",
              "<table border=\"1\" class=\"dataframe\">\n",
              "  <thead>\n",
              "    <tr style=\"text-align: right;\">\n",
              "      <th></th>\n",
              "      <th>traffic_source</th>\n",
              "      <th>num_purchase</th>\n",
              "      <th>num_cart</th>\n",
              "      <th>num_product</th>\n",
              "      <th>all_events</th>\n",
              "      <th>prop_purchase</th>\n",
              "      <th>prop_cart</th>\n",
              "      <th>prop_product</th>\n",
              "    </tr>\n",
              "  </thead>\n",
              "  <tbody>\n",
              "    <tr>\n",
              "      <th>0</th>\n",
              "      <td>Adwords</td>\n",
              "      <td>54075</td>\n",
              "      <td>177793</td>\n",
              "      <td>252996</td>\n",
              "      <td>726471</td>\n",
              "      <td>0.074435</td>\n",
              "      <td>0.244735</td>\n",
              "      <td>0.348253</td>\n",
              "    </tr>\n",
              "    <tr>\n",
              "      <th>1</th>\n",
              "      <td>Email</td>\n",
              "      <td>81902</td>\n",
              "      <td>268383</td>\n",
              "      <td>380609</td>\n",
              "      <td>1094731</td>\n",
              "      <td>0.074815</td>\n",
              "      <td>0.245159</td>\n",
              "      <td>0.347674</td>\n",
              "    </tr>\n",
              "    <tr>\n",
              "      <th>2</th>\n",
              "      <td>Facebook</td>\n",
              "      <td>18127</td>\n",
              "      <td>59849</td>\n",
              "      <td>84570</td>\n",
              "      <td>243295</td>\n",
              "      <td>0.074506</td>\n",
              "      <td>0.245994</td>\n",
              "      <td>0.347603</td>\n",
              "    </tr>\n",
              "    <tr>\n",
              "      <th>3</th>\n",
              "      <td>YouTube</td>\n",
              "      <td>18147</td>\n",
              "      <td>59330</td>\n",
              "      <td>84353</td>\n",
              "      <td>242433</td>\n",
              "      <td>0.074854</td>\n",
              "      <td>0.244727</td>\n",
              "      <td>0.347944</td>\n",
              "    </tr>\n",
              "    <tr>\n",
              "      <th>4</th>\n",
              "      <td>Organic</td>\n",
              "      <td>9044</td>\n",
              "      <td>29740</td>\n",
              "      <td>42319</td>\n",
              "      <td>121487</td>\n",
              "      <td>0.074444</td>\n",
              "      <td>0.244800</td>\n",
              "      <td>0.348342</td>\n",
              "    </tr>\n",
              "  </tbody>\n",
              "</table>\n",
              "</div>\n",
              "      <button class=\"colab-df-convert\" onclick=\"convertToInteractive('df-441c068e-9080-4d09-acce-ed333ac53640')\"\n",
              "              title=\"Convert this dataframe to an interactive table.\"\n",
              "              style=\"display:none;\">\n",
              "        \n",
              "  <svg xmlns=\"http://www.w3.org/2000/svg\" height=\"24px\"viewBox=\"0 0 24 24\"\n",
              "       width=\"24px\">\n",
              "    <path d=\"M0 0h24v24H0V0z\" fill=\"none\"/>\n",
              "    <path d=\"M18.56 5.44l.94 2.06.94-2.06 2.06-.94-2.06-.94-.94-2.06-.94 2.06-2.06.94zm-11 1L8.5 8.5l.94-2.06 2.06-.94-2.06-.94L8.5 2.5l-.94 2.06-2.06.94zm10 10l.94 2.06.94-2.06 2.06-.94-2.06-.94-.94-2.06-.94 2.06-2.06.94z\"/><path d=\"M17.41 7.96l-1.37-1.37c-.4-.4-.92-.59-1.43-.59-.52 0-1.04.2-1.43.59L10.3 9.45l-7.72 7.72c-.78.78-.78 2.05 0 2.83L4 21.41c.39.39.9.59 1.41.59.51 0 1.02-.2 1.41-.59l7.78-7.78 2.81-2.81c.8-.78.8-2.07 0-2.86zM5.41 20L4 18.59l7.72-7.72 1.47 1.35L5.41 20z\"/>\n",
              "  </svg>\n",
              "      </button>\n",
              "      \n",
              "  <style>\n",
              "    .colab-df-container {\n",
              "      display:flex;\n",
              "      flex-wrap:wrap;\n",
              "      gap: 12px;\n",
              "    }\n",
              "\n",
              "    .colab-df-convert {\n",
              "      background-color: #E8F0FE;\n",
              "      border: none;\n",
              "      border-radius: 50%;\n",
              "      cursor: pointer;\n",
              "      display: none;\n",
              "      fill: #1967D2;\n",
              "      height: 32px;\n",
              "      padding: 0 0 0 0;\n",
              "      width: 32px;\n",
              "    }\n",
              "\n",
              "    .colab-df-convert:hover {\n",
              "      background-color: #E2EBFA;\n",
              "      box-shadow: 0px 1px 2px rgba(60, 64, 67, 0.3), 0px 1px 3px 1px rgba(60, 64, 67, 0.15);\n",
              "      fill: #174EA6;\n",
              "    }\n",
              "\n",
              "    [theme=dark] .colab-df-convert {\n",
              "      background-color: #3B4455;\n",
              "      fill: #D2E3FC;\n",
              "    }\n",
              "\n",
              "    [theme=dark] .colab-df-convert:hover {\n",
              "      background-color: #434B5C;\n",
              "      box-shadow: 0px 1px 3px 1px rgba(0, 0, 0, 0.15);\n",
              "      filter: drop-shadow(0px 1px 2px rgba(0, 0, 0, 0.3));\n",
              "      fill: #FFFFFF;\n",
              "    }\n",
              "  </style>\n",
              "\n",
              "      <script>\n",
              "        const buttonEl =\n",
              "          document.querySelector('#df-441c068e-9080-4d09-acce-ed333ac53640 button.colab-df-convert');\n",
              "        buttonEl.style.display =\n",
              "          google.colab.kernel.accessAllowed ? 'block' : 'none';\n",
              "\n",
              "        async function convertToInteractive(key) {\n",
              "          const element = document.querySelector('#df-441c068e-9080-4d09-acce-ed333ac53640');\n",
              "          const dataTable =\n",
              "            await google.colab.kernel.invokeFunction('convertToInteractive',\n",
              "                                                     [key], {});\n",
              "          if (!dataTable) return;\n",
              "\n",
              "          const docLinkHtml = 'Like what you see? Visit the ' +\n",
              "            '<a target=\"_blank\" href=https://colab.research.google.com/notebooks/data_table.ipynb>data table notebook</a>'\n",
              "            + ' to learn more about interactive tables.';\n",
              "          element.innerHTML = '';\n",
              "          dataTable['output_type'] = 'display_data';\n",
              "          await google.colab.output.renderOutput(dataTable, element);\n",
              "          const docLink = document.createElement('div');\n",
              "          docLink.innerHTML = docLinkHtml;\n",
              "          element.appendChild(docLink);\n",
              "        }\n",
              "      </script>\n",
              "    </div>\n",
              "  </div>\n",
              "  "
            ]
          },
          "metadata": {},
          "execution_count": 100
        }
      ]
    },
    {
      "cell_type": "markdown",
      "source": [
        "##### Email has the largest number of events and purchases. Organic is the smallest number of purchases and total events. The proptions of each event category remains fairly even for each traffic source."
      ],
      "metadata": {
        "id": "U7Q3sGvVCd8b"
      }
    },
    {
      "cell_type": "markdown",
      "source": [
        "# Categorization of Users\n",
        "<a id='Analysis_Case_References_by_Subject_in_each_Neighborhood'></a>\n",
        "\n",
        "---\n",
        "-Add a column to the users dataframe what the users highest category of purchase is <br>\n",
        "-Create a bar plot showing the most popular purchase categories  <br>\n",
        "-Create a dataframe from an sql query for user orders that are not returned or cancelled; add dummy coding <br>\n",
        "-Create a dataframe for user product categories where the order is not returned or cancelled; add dummy coding <br>\n",
        "-Create a dataframe from an SQL query that includes country, age, gender, and traffic_source of the user; add dummy coding <br>\n",
        "-Create a dataframe of the number of events a user makes before purchase; add dummy coding <br>\n",
        "-Check the dataframes size and join; drop all NA values <br>\n",
        "-Use k-means to create clusters <br>\n",
        "-Find cluster means <br>\n",
        "-Percent difference with cluster means <br>\n",
        "-Create names for each cluster  <br>"
      ],
      "metadata": {
        "id": "S2tdovpdV8yq"
      }
    },
    {
      "cell_type": "code",
      "source": [
        "sql = '''\n",
        "SELECT \n",
        "  user_id,\n",
        "  count(*) order_count \n",
        "FROM `bigquery-public-data.thelook_ecommerce.orders` \n",
        "where status not in ('Returned','Cancelled')\n",
        "group by 1\n",
        "'''\n",
        "\n",
        "user_order_count = pd.io.gbq.read_gbq(sql,project_id=project_id,\n",
        "                                      index_col='user_id')"
      ],
      "metadata": {
        "id": "KowE89Ie8nga"
      },
      "execution_count": 101,
      "outputs": []
    },
    {
      "cell_type": "code",
      "source": [
        "user_orders = pd.get_dummies(user_order_count['order_count'],prefix='orders')"
      ],
      "metadata": {
        "id": "2FMh_w0y8u5o"
      },
      "execution_count": 102,
      "outputs": []
    },
    {
      "cell_type": "code",
      "source": [
        "sql = '''\n",
        "SELECT\n",
        "  user_id,\n",
        "  p.category,\n",
        "  COUNT(*) purchase_count\n",
        "FROM\n",
        "  `bigquery-public-data.thelook_ecommerce.order_items` oi\n",
        "JOIN\n",
        "  `bigquery-public-data.thelook_ecommerce.products` p\n",
        "ON\n",
        "  oi.product_id = p.id\n",
        "WHERE\n",
        "  status NOT IN ('Returned','Cancelled')\n",
        "GROUP BY 1,2\n",
        "'''\n",
        "\n",
        "user_products_cat = pd.io.gbq.read_gbq(sql,project_id=project_id,\n",
        "                                      index_col='user_id')"
      ],
      "metadata": {
        "id": "BqZH19vl6IcO"
      },
      "execution_count": 103,
      "outputs": []
    },
    {
      "cell_type": "code",
      "source": [
        "user_categories = pd.get_dummies(user_products_cat['category'],prefix='cat').groupby('user_id').max()"
      ],
      "metadata": {
        "id": "D8waZZP_6IfJ"
      },
      "execution_count": 104,
      "outputs": []
    },
    {
      "cell_type": "code",
      "source": [
        "sql = '''\n",
        "SELECT\n",
        "  *\n",
        "FROM\n",
        "  `bigquery-public-data.thelook_ecommerce.users`\n",
        "'''\n",
        "\n",
        "user_demo = pd.io.gbq.read_gbq(sql,project_id=project_id,\n",
        "                                      index_col='id')"
      ],
      "metadata": {
        "id": "pxqq04LyqiHv"
      },
      "execution_count": 105,
      "outputs": []
    },
    {
      "cell_type": "code",
      "source": [
        "user_country = pd.get_dummies(user_demo['country'],prefix='country')"
      ],
      "metadata": {
        "id": "RDnn7oU16IiB"
      },
      "execution_count": 106,
      "outputs": []
    },
    {
      "cell_type": "code",
      "source": [
        "user_gender = pd.get_dummies(user_demo['gender'],prefix='sex')"
      ],
      "metadata": {
        "id": "YQHHJgEr6IlH"
      },
      "execution_count": 107,
      "outputs": []
    },
    {
      "cell_type": "code",
      "source": [
        "user_age = pd.get_dummies(pd.qcut(user_demo['age'], q = 5, labels = range(5)),prefix='age')"
      ],
      "metadata": {
        "id": "KMlBYvtx8Enx"
      },
      "execution_count": 108,
      "outputs": []
    },
    {
      "cell_type": "code",
      "source": [
        "user_traffic = pd.get_dummies(user_demo['traffic_source'],prefix='traffic')"
      ],
      "metadata": {
        "id": "EtBpizTV8ErG"
      },
      "execution_count": 109,
      "outputs": []
    },
    {
      "cell_type": "code",
      "source": [
        "sql = '''\n",
        "SELECT\n",
        "  user_id,\n",
        "  SUM(CASE WHEN event_type = 'purchase' THEN 1 ELSE 0 END) num_purchase,\n",
        "  SUM(CASE WHEN event_type = 'cart' THEN 1 ELSE 0 END) num_cart,\n",
        "  SUM(CASE WHEN event_type = 'product' THEN 1 ELSE 0 END) num_product,\n",
        "  COUNT(*) all_events\n",
        "FROM\n",
        "  `bigquery-public-data.thelook_ecommerce.events`\n",
        "WHERE\n",
        "  user_id IS NOT NULL\n",
        "GROUP BY\n",
        "  1\n",
        "'''\n",
        "\n",
        "user_web = pd.io.gbq.read_gbq(sql,project_id=project_id,\n",
        "                                      index_col='user_id')"
      ],
      "metadata": {
        "id": "teiFXASm8Ev2"
      },
      "execution_count": 110,
      "outputs": []
    },
    {
      "cell_type": "code",
      "source": [
        "user_web['event_per_purchase'] = round(user_web['all_events']/user_web['num_purchase'])\n",
        "user_web['event_per_purchase'].value_counts().sort_index()"
      ],
      "metadata": {
        "colab": {
          "base_uri": "https://localhost:8080/"
        },
        "id": "FLGsKLA_8E0B",
        "outputId": "578a9b35-5507-4802-9f64-2979d3049d4c"
      },
      "execution_count": 111,
      "outputs": [
        {
          "output_type": "execute_result",
          "data": {
            "text/plain": [
              "5.0     47766\n",
              "6.0      8954\n",
              "7.0     11267\n",
              "8.0      1350\n",
              "9.0      1991\n",
              "10.0     3961\n",
              "11.0     1958\n",
              "12.0      154\n",
              "13.0     2597\n",
              "Name: event_per_purchase, dtype: Int64"
            ]
          },
          "metadata": {},
          "execution_count": 111
        }
      ]
    },
    {
      "cell_type": "code",
      "source": [
        "user_events_per_purchase = pd.get_dummies(pd.qcut(user_web['event_per_purchase'],q=4,labels=range(2),duplicates='drop'),prefix='events_per_purchase')"
      ],
      "metadata": {
        "id": "6PF9ozTjxIrf"
      },
      "execution_count": 112,
      "outputs": []
    },
    {
      "cell_type": "code",
      "source": [
        "user_web['avg_cart_size'] = round(user_web['num_cart']/user_web['num_purchase'])\n",
        "user_web['avg_cart_size'].value_counts()"
      ],
      "metadata": {
        "colab": {
          "base_uri": "https://localhost:8080/"
        },
        "id": "T4rNOqFW8E2Q",
        "outputId": "ea37bf72-66a3-4be5-faa4-d2b54d106f4a"
      },
      "execution_count": 113,
      "outputs": [
        {
          "output_type": "execute_result",
          "data": {
            "text/plain": [
              "1.0    49184\n",
              "2.0    21588\n",
              "3.0     6475\n",
              "4.0     2751\n",
              "Name: avg_cart_size, dtype: Int64"
            ]
          },
          "metadata": {},
          "execution_count": 113
        }
      ]
    },
    {
      "cell_type": "code",
      "source": [
        "user_avg_cart_size = pd.get_dummies((user_web['avg_cart_size']),prefix = 'avg_cart_size')"
      ],
      "metadata": {
        "id": "eXETZxpW8bZv"
      },
      "execution_count": 114,
      "outputs": []
    },
    {
      "cell_type": "code",
      "source": [
        "dfs = [user_orders,\n",
        "       user_categories,\n",
        "       user_country,\n",
        "       user_gender,\n",
        "       user_age,\n",
        "       user_traffic,\n",
        "       user_events_per_purchase,\n",
        "       user_avg_cart_size]\n",
        "for df in dfs:\n",
        "  print(df.shape)"
      ],
      "metadata": {
        "colab": {
          "base_uri": "https://localhost:8080/"
        },
        "id": "pc8-IT8f8bdN",
        "outputId": "0ef33326-2fd2-4fe8-a2f9-8480fdf1469d"
      },
      "execution_count": 115,
      "outputs": [
        {
          "output_type": "stream",
          "name": "stdout",
          "text": [
            "(66116, 4)\n",
            "(66116, 26)\n",
            "(100000, 14)\n",
            "(100000, 2)\n",
            "(100000, 5)\n",
            "(100000, 5)\n",
            "(79998, 2)\n",
            "(79998, 4)\n"
          ]
        }
      ]
    },
    {
      "cell_type": "code",
      "source": [
        "user_all = user_country.join(user_categories,how='left').\\\n",
        "join(user_orders,how='left').\\\n",
        "join(user_gender).join(user_age).join(user_traffic).\\\n",
        "join(user_events_per_purchase,how='left').\\\n",
        "join(user_avg_cart_size,how='left')"
      ],
      "metadata": {
        "id": "ijqHsy1k8bg-"
      },
      "execution_count": 116,
      "outputs": []
    },
    {
      "cell_type": "code",
      "source": [
        "user_all.dropna(inplace=True)"
      ],
      "metadata": {
        "id": "mJWOOdrI83vO"
      },
      "execution_count": 117,
      "outputs": []
    },
    {
      "cell_type": "code",
      "source": [
        "sse = {}\n",
        "for k in range(1, 10):\n",
        "    kmeans = KMeans(n_clusters=k, max_iter=1000).fit(user_all)\n",
        "    sse[k] = kmeans.inertia_ \n",
        "plt.figure()\n",
        "plt.plot(list(sse.keys()), list(sse.values()))\n",
        "plt.xlabel(\"Number of cluster\")\n",
        "plt.ylabel(\"SSE\")\n",
        "plt.show()"
      ],
      "metadata": {
        "colab": {
          "base_uri": "https://localhost:8080/",
          "height": 781
        },
        "id": "W7aOJMy58bkt",
        "outputId": "de729dc6-af28-4f84-aee5-dd494357f2a2"
      },
      "execution_count": 118,
      "outputs": [
        {
          "output_type": "stream",
          "name": "stderr",
          "text": [
            "/usr/local/lib/python3.9/dist-packages/sklearn/cluster/_kmeans.py:870: FutureWarning: The default value of `n_init` will change from 10 to 'auto' in 1.4. Set the value of `n_init` explicitly to suppress the warning\n",
            "  warnings.warn(\n",
            "/usr/local/lib/python3.9/dist-packages/sklearn/cluster/_kmeans.py:870: FutureWarning: The default value of `n_init` will change from 10 to 'auto' in 1.4. Set the value of `n_init` explicitly to suppress the warning\n",
            "  warnings.warn(\n",
            "/usr/local/lib/python3.9/dist-packages/sklearn/cluster/_kmeans.py:870: FutureWarning: The default value of `n_init` will change from 10 to 'auto' in 1.4. Set the value of `n_init` explicitly to suppress the warning\n",
            "  warnings.warn(\n",
            "/usr/local/lib/python3.9/dist-packages/sklearn/cluster/_kmeans.py:870: FutureWarning: The default value of `n_init` will change from 10 to 'auto' in 1.4. Set the value of `n_init` explicitly to suppress the warning\n",
            "  warnings.warn(\n",
            "/usr/local/lib/python3.9/dist-packages/sklearn/cluster/_kmeans.py:870: FutureWarning: The default value of `n_init` will change from 10 to 'auto' in 1.4. Set the value of `n_init` explicitly to suppress the warning\n",
            "  warnings.warn(\n",
            "/usr/local/lib/python3.9/dist-packages/sklearn/cluster/_kmeans.py:870: FutureWarning: The default value of `n_init` will change from 10 to 'auto' in 1.4. Set the value of `n_init` explicitly to suppress the warning\n",
            "  warnings.warn(\n",
            "/usr/local/lib/python3.9/dist-packages/sklearn/cluster/_kmeans.py:870: FutureWarning: The default value of `n_init` will change from 10 to 'auto' in 1.4. Set the value of `n_init` explicitly to suppress the warning\n",
            "  warnings.warn(\n",
            "/usr/local/lib/python3.9/dist-packages/sklearn/cluster/_kmeans.py:870: FutureWarning: The default value of `n_init` will change from 10 to 'auto' in 1.4. Set the value of `n_init` explicitly to suppress the warning\n",
            "  warnings.warn(\n",
            "/usr/local/lib/python3.9/dist-packages/sklearn/cluster/_kmeans.py:870: FutureWarning: The default value of `n_init` will change from 10 to 'auto' in 1.4. Set the value of `n_init` explicitly to suppress the warning\n",
            "  warnings.warn(\n"
          ]
        },
        {
          "output_type": "display_data",
          "data": {
            "text/plain": [
              "<Figure size 640x480 with 1 Axes>"
            ],
            "image/png": "[encoded data removed]"
          },
          "metadata": {}
        }
      ]
    },
    {
      "cell_type": "code",
      "source": [
        "kmeans = KMeans(n_clusters=7, max_iter=1000).fit(user_all)\n",
        "user_all[\"clusters\"] = kmeans.labels_"
      ],
      "metadata": {
        "id": "PlJklkd08bn8",
        "colab": {
          "base_uri": "https://localhost:8080/"
        },
        "outputId": "65705edf-a013-4bcf-8695-a8c6e308cd1b"
      },
      "execution_count": 119,
      "outputs": [
        {
          "output_type": "stream",
          "name": "stderr",
          "text": [
            "/usr/local/lib/python3.9/dist-packages/sklearn/cluster/_kmeans.py:870: FutureWarning: The default value of `n_init` will change from 10 to 'auto' in 1.4. Set the value of `n_init` explicitly to suppress the warning\n",
            "  warnings.warn(\n"
          ]
        }
      ]
    },
    {
      "cell_type": "code",
      "source": [
        "cluster_means = user_all.groupby('clusters').mean()"
      ],
      "metadata": {
        "id": "1AhsXVQB8bsw"
      },
      "execution_count": 120,
      "outputs": []
    },
    {
      "cell_type": "code",
      "source": [
        "percent_diff = cluster_means/user_all.mean()-1\n",
        "percent_diff = percent_diff.T"
      ],
      "metadata": {
        "id": "YYhHgvdH8bzh"
      },
      "execution_count": 122,
      "outputs": []
    },
    {
      "cell_type": "code",
      "source": [
        "print(percent_diff.to_string())"
      ],
      "metadata": {
        "colab": {
          "base_uri": "https://localhost:8080/"
        },
        "id": "zuVvEjCU9HDH",
        "outputId": "fe249c65-4d74-4942-99b8-98156aa04a79"
      },
      "execution_count": 123,
      "outputs": [
        {
          "output_type": "stream",
          "name": "stdout",
          "text": [
            "clusters                                  0         1         2         3         4         5         6\n",
            "age_0                             -0.005673  0.009106  0.043053 -0.026818 -0.009857  0.014710 -0.015504\n",
            "age_1                             -0.006590  0.010682  0.037309 -0.047387  0.000434 -0.003798  0.002403\n",
            "age_2                              0.002617 -0.004617 -0.019023  0.022740 -0.011955  0.014400  0.025410\n",
            "age_3                              0.001348  0.008230 -0.025984  0.025702 -0.014513  0.014405  0.025848\n",
            "age_4                              0.009002 -0.025342 -0.038472  0.028098  0.038723 -0.042851 -0.041021\n",
            "avg_cart_size_1.0                  0.663630 -1.000000 -1.000000 -1.000000  0.663630  0.663630 -1.000000\n",
            "avg_cart_size_2.0                 -1.000000  2.553286  2.553286 -0.065800 -1.000000 -1.000000 -0.109592\n",
            "avg_cart_size_3.0                 -1.000000 -1.000000 -1.000000  5.260821 -1.000000 -1.000000  5.393535\n",
            "avg_cart_size_4.0                 -1.000000 -1.000000 -1.000000  5.312003 -1.000000 -1.000000  5.339987\n",
            "cat_Accessories                   -0.197786  0.009497  0.370158  0.685384 -0.589522  0.001145  1.210616\n",
            "cat_Active                        -0.233955  0.004580  0.353430  0.638815 -0.568673  0.124113  1.260155\n",
            "cat_Blazers & Jackets             -1.000000  1.319866 -1.000000  2.966880  0.013819  1.397638 -1.000000\n",
            "cat_Clothing Sets                 -1.000000  1.074870 -1.000000  3.049020  0.160923  1.240008 -1.000000\n",
            "cat_Dresses                       -1.000000  1.370576 -1.000000  2.807275  0.049165  1.379279 -1.000000\n",
            "cat_Fashion Hoodies & Sweatshirts -0.214207  0.032338  0.394776  0.679855 -0.583241  0.044574  1.148189\n",
            "cat_Intimates                     -1.000000  1.329994 -1.000000  2.522090  0.135664  1.493599 -1.000000\n",
            "cat_Jeans                         -0.164686 -0.052927  0.438006  0.573755 -0.587375 -0.009159  1.191876\n",
            "cat_Jumpsuits & Rompers           -1.000000  1.431200 -1.000000  2.847392  0.002092  1.383686 -1.000000\n",
            "cat_Leggings                      -1.000000  1.515300 -1.000000  2.847552 -0.039542  1.376276 -1.000000\n",
            "cat_Maternity                     -1.000000  1.241634 -1.000000  2.971774  0.078626  1.313586 -1.000000\n",
            "cat_Outerwear & Coats             -0.161948 -0.112162  0.551147  0.455870 -0.632531 -0.127142  1.460756\n",
            "cat_Pants                          0.387880 -1.000000  1.422125 -1.000000 -1.000000 -1.000000  2.740201\n",
            "cat_Pants & Capris                -1.000000  1.272863 -1.000000  2.931292  0.047679  1.407989 -1.000000\n",
            "cat_Plus                          -1.000000  1.433029 -1.000000  2.841984  0.011061  1.357499 -1.000000\n",
            "cat_Shorts                        -0.206302  0.010108  0.363653  0.702272 -0.569659  0.081880  1.102812\n",
            "cat_Skirts                        -1.000000  1.439118 -1.000000  3.006100 -0.058419  1.385437 -1.000000\n",
            "cat_Sleep & Lounge                -0.206703  0.038159  0.391154  0.699451 -0.613941  0.002673  1.224529\n",
            "cat_Socks                          0.369604 -1.000000  1.426307 -1.000000 -1.000000 -1.000000  2.804863\n",
            "cat_Socks & Hosiery               -1.000000  1.323667 -1.000000  2.853423  0.080157  1.304916 -1.000000\n",
            "cat_Suits                         -1.000000  1.343884 -1.000000  2.999972 -0.034383  1.476123 -1.000000\n",
            "cat_Suits & Sport Coats            0.380208 -1.000000  1.407026 -1.000000 -1.000000 -1.000000  2.793756\n",
            "cat_Sweaters                      -0.145215 -0.007783  0.451089  0.454220 -0.608099 -0.073145  1.270460\n",
            "cat_Swim                          -0.243351  0.108226  0.258508  0.681990 -0.512555  0.084662  1.108746\n",
            "cat_Tops & Tees                   -0.134758 -0.070675  0.459208  0.428215 -0.603622 -0.069247  1.324825\n",
            "cat_Underwear                      0.396086 -1.000000  1.310695 -1.000000 -1.000000 -1.000000  2.882831\n",
            "clusters                                NaN       NaN       NaN       NaN       NaN       NaN       NaN\n",
            "country_Australia                  0.060034 -0.058174  0.096459 -0.242704  0.020997 -0.168974  0.050445\n",
            "country_Austria                    0.107248 -1.000000 -1.000000  3.124002  0.451153 -1.000000 -1.000000\n",
            "country_Belgium                   -0.016091  0.078113  0.056073  0.017950 -0.063179  0.025671 -0.000556\n",
            "country_Brasil                    -0.002161 -0.011288  0.003918  0.036804 -0.021220 -0.004297  0.048279\n",
            "country_China                     -0.007852  0.014406 -0.002742 -0.010107  0.008355  0.027317 -0.026579\n",
            "country_Colombia                  -0.050930  1.385740 -1.000000  0.767429 -0.378077  1.030777 -1.000000\n",
            "country_France                     0.034795  0.001279 -0.066376  0.007114 -0.051344  0.054809  0.061749\n",
            "country_Germany                   -0.011428  0.017285  0.038817 -0.115970  0.032761 -0.085824  0.058981\n",
            "country_Japan                     -0.002857  0.017164  0.114046  0.030360 -0.034068 -0.125340 -0.010525\n",
            "country_Poland                     0.086357  0.417940  0.090992 -0.221886 -0.123832 -0.284758 -0.267342\n",
            "country_South Korea               -0.041768  0.026572  0.015542 -0.016422  0.033360  0.037299 -0.018755\n",
            "country_Spain                     -0.004852 -0.010057 -0.020694  0.140813 -0.023462 -0.058368  0.042504\n",
            "country_United Kingdom             0.004934 -0.071907 -0.003106  0.049647  0.023586  0.051783 -0.072112\n",
            "country_United States              0.012106 -0.013095 -0.015892  0.001285  0.003808 -0.011684 -0.004001\n",
            "events_per_purchase_0              0.187769  0.187769  0.187769 -1.000000  0.187769  0.187769 -1.000000\n",
            "events_per_purchase_1             -1.000000 -1.000000 -1.000000  5.325679 -1.000000 -1.000000  5.325679\n",
            "orders_1                           0.095609 -0.082450 -0.079365 -0.258186  0.438931 -1.000000 -0.244758\n",
            "orders_2                          -0.216491  0.285660  0.280490  0.393944 -1.000000  2.306423  0.422227\n",
            "orders_3                          -0.264962  0.116490  0.063659  0.948416 -1.000000  2.098751  0.822101\n",
            "orders_4                          -0.103590 -0.505102 -0.406253  1.379232 -1.000000  2.504562  1.072938\n",
            "sex_F                             -1.000000  0.997462 -1.000000  0.997462  0.997462  0.997462 -1.000000\n",
            "sex_M                              1.002544 -1.000000  1.002544 -1.000000 -1.000000 -1.000000  1.002544\n",
            "traffic_Display                   -0.014128  0.049209  0.019457 -0.012823 -0.006593 -0.019442 -0.000996\n",
            "traffic_Email                      0.054188 -0.028591 -0.031560 -0.041710 -0.010697  0.045379 -0.083258\n",
            "traffic_Facebook                   0.004172 -0.055214 -0.001966  0.041466  0.013185  0.034746 -0.041807\n",
            "traffic_Organic                   -0.006242  0.036748  0.019809 -0.006120 -0.007144 -0.044796  0.004750\n",
            "traffic_Search                    -0.002093 -0.003915 -0.002972  0.001439  0.001543  0.004509  0.008685\n"
          ]
        }
      ]
    },
    {
      "cell_type": "code",
      "source": [
        "cluster_names = {0:'Dutch women from emails with small carts and one order buying fancy clothes',\n",
        "                 1:'Spanish men who shop for fancy clothes from Facebook with one order and a small cart',\n",
        "                 2:'Columbian men buying regular clothes in many orders and large carts',\n",
        "                 3:'Columbian men from Facebook buying all different things in many orders and large carts ',\n",
        "                 4:'Dutch women from emails buying a mix of fancy and comfortable clothes in many orders with small carts',\n",
        "                 5:'Austrian men buying fancy clothes in many orders and small carts',\n",
        "                 6:'French men buying comfortable clothes in one order and a small cart'\n",
        "                 }"
      ],
      "metadata": {
        "id": "Oi_7yDve9HGH"
      },
      "execution_count": 124,
      "outputs": []
    },
    {
      "cell_type": "code",
      "source": [
        "user_all['clusters'].replace(cluster_names)"
      ],
      "metadata": {
        "colab": {
          "base_uri": "https://localhost:8080/"
        },
        "id": "DvgvETl79HJV",
        "outputId": "96f6da1e-e893-4442-c0b1-4abd1c423100"
      },
      "execution_count": 125,
      "outputs": [
        {
          "output_type": "execute_result",
          "data": {
            "text/plain": [
              "id\n",
              "27189    Dutch women from emails buying a mix of fancy ...\n",
              "29496    Dutch women from emails with small carts and o...\n",
              "56597    Dutch women from emails with small carts and o...\n",
              "62576    Dutch women from emails with small carts and o...\n",
              "94088    Spanish men who shop for fancy clothes from Fa...\n",
              "                               ...                        \n",
              "64126    Dutch women from emails buying a mix of fancy ...\n",
              "7426     Dutch women from emails buying a mix of fancy ...\n",
              "19609    Columbian men from Facebook buying all differe...\n",
              "26726    Columbian men from Facebook buying all differe...\n",
              "65035    Dutch women from emails with small carts and o...\n",
              "Name: clusters, Length: 66116, dtype: object"
            ]
          },
          "metadata": {},
          "execution_count": 125
        }
      ]
    },
    {
      "cell_type": "markdown",
      "source": [
        "##### Cluster names were assigned based on the correlation between the group and the category names used to create clusters. Fancy clothes include suits, dresses, skirts while everyday clothes include leggings, shorts, t-shirts, etc. Small carts have an average of one or two items while large carts have three or four. The number of orders was categorized as one order or multiple orders including users who made two, three, or four seperate purchases. Country, age and traffic source tended to not have large correlations to any cluster. "
      ],
      "metadata": {
        "id": "iPBh36HJD0cA"
      }
    }
  ]
}